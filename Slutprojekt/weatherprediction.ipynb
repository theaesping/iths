{
 "cells": [
  {
   "attachments": {},
   "cell_type": "markdown",
   "metadata": {},
   "source": [
    "# Final Project\n",
    "## Pythprog.AI ITHS 2022-2023\n",
    "### Local Weather Predictions\n",
    "\n",
    "by **Rikard Lang**"
   ]
  },
  {
   "attachments": {},
   "cell_type": "markdown",
   "metadata": {},
   "source": [
    "## Introduction\n",
    "\n",
    "Scouring the internet, there is an abundance of data to be found - as free and open repositories of carefully compiled information. Kaggle is one example of such a source of data. There are also other ways to find data, some websites might even share data unknowingly via an open api, but they aren't aware of it themselves. So, with access to the internet it's easy to find data. \n",
    "\n",
    "There are also many different problems you can solve using the above mentioned treasure troves of data. I got intrigued by weather data.\n",
    "\n",
    "## The problem\n",
    "\n",
    "Weather is something that we all talk about, all the time and in the realm of the meteorologists I am sure they have finely tuned models to predict the weather. More than likely, they've spent decades or more to tune these models to accurately predict the weather. Not just for the benefit of people who want to know if they should wear their boots and beanie, but for people who truly depend on accurate weather reports: mountaineers, sailors, truck drivers, explorers, pilots and so on. I want to explore how well a machine learning model can predict the weather, how accurate will it be and how fast can it deliver these predictions. \n",
    "\n",
    "## Accuracy versus locality \n",
    "\n",
    "This way of using a machine learning model will most likely not compete with the government agencies; they have lots of computer power, brain power and experience in the field. However, it could be of use when you want to predict the weather at a particular locality, one that isn't covered more than very broadly by the official predictions. An example would be that you are planning on a hike in a lesser known area, or that you are planning on finding a long chain of geocaches in particular area, combine that with the ability to gather data from local weather stations and you could predict the weather for your own needs.\n",
    "\n",
    "## Locality\n",
    "\n",
    "For this experiment I opted to use weather data that is somewhat local to me. Actually, the source chosen for the data passes several criteria: \n",
    "1. Geographically local data\n",
    "2. Lots of measurements - hourly readings\n",
    "3. A long history of readings, 79 years worth of data\n",
    "4. The site of readings is located at a distance of 42 km from me, why that is important I leave as an exercise for the astute reader\n",
    "\n",
    "So in theory this is a lot of data, over a very long timespan but will it be accurate enough?\n",
    "\n",
    "## Potential pitfalls\n",
    "\n",
    "Due to nature of the long timespan, this data could be of very good use to the model, it should be able to spot patterns in the vast trove of data. However, the weather has changed quite a bit over the last 79 years so the question is if the model should be trained on all of the data, or perhaps just a subset of it. We observe the weather as a cyclic and recurring event: \n",
    "\n",
    "1. It's winter, it gets cold\n",
    "2. It's summer, it's warm and sunny (and lots of rain)\n",
    "3. The observed temperature (in Sweden) on New Years Eve and Midsummers Eve are sometimes the same\n",
    "\n",
    "So the historic data will be of use the spot these recurring temperatures, however as already mentioned - perhaps the model will do just fine with the last four months of data. This question will become more important when other people want to use a similar setup for their own needs: how much data is needed to get a somewhat accurate prediction?\n",
    "\n",
    "Say you are looking to scale a remote mountain, not covered in detail by official weather reports, will your grandfathers four years of recorded data be enough to help you? Will three months of recorded data be of use? Can the model predict anything useful if first trained on this huge dataset and then applied with fragments of local weather data? Let's find out!"
   ]
  },
  {
   "attachments": {},
   "cell_type": "markdown",
   "metadata": {},
   "source": [
    "<img src=\"arna_airport_map.png\" width=400>"
   ]
  },
  {
   "attachments": {},
   "cell_type": "markdown",
   "metadata": {},
   "source": [
    "## The data\n",
    "\n",
    "### Source of data\n",
    "\n",
    "The source of the data is https://www.smhi.se/data/meteorologi/ladda-ner-meteorologiska-observationer#param=precipitationHourlySum,stations=core,stationid=97530\n",
    "\n",
    "This is the weather station at Ärna Airport just outside of Uppsala. This used to be, and has now reverted back to being a military airbase **F16**. I guess that being a military airbase and especially during the Cold War, is why the weather was monitored and recorded in such detail. The fighter jets did training sorties daily and the current weather was very important.\n",
    "\n",
    "### The subdivision of data\n",
    "\n",
    "For this project I have prepared two sets of data, all coming from the same weather station. The first file is 1944-sep-2022.csv which has all the readings from **july 1st 1944** through **september of 2022**. The other, smaller subset, as well as including more recent data is the file 220907-230115.csv: this represents, at the time of this writing, the last four months of data from the weather station. This could be substituted for fragmentary data from your own weather station. Perhaps they are the meticulate temperature recordings of your grandfather, maybe your own temperature recordings close to a mountain you will ascend during february 2023 or something similar. \n",
    "\n",
    "### A closer look at the data\n",
    "\n"
   ]
  },
  {
   "attachments": {},
   "cell_type": "markdown",
   "metadata": {},
   "source": [
    "<img src=\"example_of_data.png\">"
   ]
  },
  {
   "attachments": {},
   "cell_type": "markdown",
   "metadata": {},
   "source": [
    "These are the first three lines of data. It represents the readings from the first day, **july 1st 1944**. There are four columns:\n",
    "\n",
    "- The date\n",
    "\n",
    "- The time in UTC\n",
    "\n",
    "- The temperature reading with decimal point\n",
    "\n",
    "- Quality of the data: G means the data is verified and Y means it could be an aggregated value or a hastily controlled archive data, presumably someone did a manual check on the scribblings and interpreted it as a 5.2 or 16.7"
   ]
  },
  {
   "attachments": {},
   "cell_type": "markdown",
   "metadata": {},
   "source": [
    "## Number of measurements\n",
    "\n",
    "The first five years of data recording consists of three readings per day:\n",
    "\n",
    "- 07:00\n",
    "- 13:00\n",
    "- 18:00\n",
    "\n",
    "From the 1st of january 1949 there are four reading per day:\n",
    "\n",
    "- 00:00\n",
    "- 06:00\n",
    "- 12:00\n",
    "- 18:00\n",
    "\n",
    "1952 they change to eight readings per day.\n",
    "\n",
    "January 1st 1962 and onwards the temperature is recorded every hour."
   ]
  },
  {
   "attachments": {},
   "cell_type": "markdown",
   "metadata": {},
   "source": [
    "# Preparing for using machine analysis\n",
    "\n",
    "Let's prepare all the tools we will need to start making predictions"
   ]
  },
  {
   "cell_type": "code",
   "execution_count": 1188,
   "metadata": {},
   "outputs": [],
   "source": [
    "import pandas as pd\n",
    "import datetime\n",
    "import matplotlib.pyplot as plt\n",
    "import warnings\n",
    "import sklearn\n",
    "from sklearn.model_selection import train_test_split\n",
    "from sklearn.tree import DecisionTreeRegressor\n",
    "from sklearn.ensemble import RandomForestRegressor\n",
    "from sklearn.model_selection import cross_val_score\n",
    "import numpy\n",
    "import seaborn as sns\n"
   ]
  },
  {
   "attachments": {},
   "cell_type": "markdown",
   "metadata": {},
   "source": [
    "# The obligatory sales pitch from the websites of the packages\n",
    "\n",
    "## numpy\n",
    "The fundamental package for scientific computing with Python, makes working with arrays of data a breeze. *Array-processing*\n",
    "\n",
    "## pandas\n",
    "pandas aims to be the fundamental high-level building block for doing practical, real world data analysis in Python. Additionally, it has the broader goal of becoming the most powerful and flexible open source data analysis / manipulation tool available in any language. *This is for manipulating data sets*\n",
    "\n",
    "## scikit-learn\n",
    "Simple and efficient tools for predictive data analysis. Accessible to everybody, and reusable in various contexts. *Helps out with the regression problem of predicting temperature*"
   ]
  },
  {
   "attachments": {},
   "cell_type": "markdown",
   "metadata": {},
   "source": [
    "Before importing the data into data frames I used Textedit.app to rename the column headers from swedish to english"
   ]
  },
  {
   "attachments": {},
   "cell_type": "markdown",
   "metadata": {},
   "source": [
    "# Let's load the large data set and the smaller subset into data frames"
   ]
  },
  {
   "cell_type": "code",
   "execution_count": 1189,
   "metadata": {},
   "outputs": [],
   "source": [
    "large_df = pd.read_csv('./data/1944-sep-2022.csv', sep=\";\", low_memory=False)"
   ]
  },
  {
   "cell_type": "code",
   "execution_count": 1190,
   "metadata": {},
   "outputs": [],
   "source": [
    "small_df = pd.read_csv('./data/220907-230115.csv', sep=\";\", low_memory=False)"
   ]
  },
  {
   "cell_type": "code",
   "execution_count": 1191,
   "metadata": {},
   "outputs": [
    {
     "data": {
      "image/png": "[encoded data removed]",
      "text/plain": [
       "<Figure size 1500x500 with 1 Axes>"
      ]
     },
     "metadata": {},
     "output_type": "display_data"
    }
   ],
   "source": [
    "plt.figure(figsize = (15,5))\n",
    "fig = plt.plot(large_df['date'],large_df['temperature'])\n",
    "plt.grid();"
   ]
  },
  {
   "attachments": {},
   "cell_type": "markdown",
   "metadata": {},
   "source": [
    "# The plot thickens\n",
    "This plot took some time to complete. It looks very regular, at least from this zoomed out perspective. We'll get to that later. Micro vs. macro-levels I guess."
   ]
  },
  {
   "cell_type": "code",
   "execution_count": 1192,
   "metadata": {},
   "outputs": [
    {
     "data": {
      "text/html": [
       "<div>\n",
       "<style scoped>\n",
       "    .dataframe tbody tr th:only-of-type {\n",
       "        vertical-align: middle;\n",
       "    }\n",
       "\n",
       "    .dataframe tbody tr th {\n",
       "        vertical-align: top;\n",
       "    }\n",
       "\n",
       "    .dataframe thead th {\n",
       "        text-align: right;\n",
       "    }\n",
       "</style>\n",
       "<table border=\"1\" class=\"dataframe\">\n",
       "  <thead>\n",
       "    <tr style=\"text-align: right;\">\n",
       "      <th></th>\n",
       "      <th>date</th>\n",
       "      <th>time</th>\n",
       "      <th>temperature</th>\n",
       "      <th>quality</th>\n",
       "      <th>Unnamed: 4</th>\n",
       "      <th>Unnamed: 5</th>\n",
       "    </tr>\n",
       "  </thead>\n",
       "  <tbody>\n",
       "    <tr>\n",
       "      <th>0</th>\n",
       "      <td>1944-07-01</td>\n",
       "      <td>07:00:00</td>\n",
       "      <td>16.2</td>\n",
       "      <td>G</td>\n",
       "      <td>NaN</td>\n",
       "      <td>NaN</td>\n",
       "    </tr>\n",
       "    <tr>\n",
       "      <th>1</th>\n",
       "      <td>1944-07-01</td>\n",
       "      <td>13:00:00</td>\n",
       "      <td>23.0</td>\n",
       "      <td>G</td>\n",
       "      <td>NaN</td>\n",
       "      <td>NaN</td>\n",
       "    </tr>\n",
       "    <tr>\n",
       "      <th>2</th>\n",
       "      <td>1944-07-01</td>\n",
       "      <td>18:00:00</td>\n",
       "      <td>20.2</td>\n",
       "      <td>G</td>\n",
       "      <td>NaN</td>\n",
       "      <td>NaN</td>\n",
       "    </tr>\n",
       "    <tr>\n",
       "      <th>3</th>\n",
       "      <td>1944-07-02</td>\n",
       "      <td>07:00:00</td>\n",
       "      <td>19.8</td>\n",
       "      <td>G</td>\n",
       "      <td>NaN</td>\n",
       "      <td>NaN</td>\n",
       "    </tr>\n",
       "    <tr>\n",
       "      <th>4</th>\n",
       "      <td>1944-07-02</td>\n",
       "      <td>13:00:00</td>\n",
       "      <td>25.8</td>\n",
       "      <td>G</td>\n",
       "      <td>NaN</td>\n",
       "      <td>NaN</td>\n",
       "    </tr>\n",
       "  </tbody>\n",
       "</table>\n",
       "</div>"
      ],
      "text/plain": [
       "         date      time  temperature quality  Unnamed: 4  Unnamed: 5\n",
       "0  1944-07-01  07:00:00         16.2       G         NaN         NaN\n",
       "1  1944-07-01  13:00:00         23.0       G         NaN         NaN\n",
       "2  1944-07-01  18:00:00         20.2       G         NaN         NaN\n",
       "3  1944-07-02  07:00:00         19.8       G         NaN         NaN\n",
       "4  1944-07-02  13:00:00         25.8       G         NaN         NaN"
      ]
     },
     "execution_count": 1192,
     "metadata": {},
     "output_type": "execute_result"
    }
   ],
   "source": [
    "large_df.head()"
   ]
  },
  {
   "cell_type": "code",
   "execution_count": 1193,
   "metadata": {},
   "outputs": [
    {
     "data": {
      "text/html": [
       "<div>\n",
       "<style scoped>\n",
       "    .dataframe tbody tr th:only-of-type {\n",
       "        vertical-align: middle;\n",
       "    }\n",
       "\n",
       "    .dataframe tbody tr th {\n",
       "        vertical-align: top;\n",
       "    }\n",
       "\n",
       "    .dataframe thead th {\n",
       "        text-align: right;\n",
       "    }\n",
       "</style>\n",
       "<table border=\"1\" class=\"dataframe\">\n",
       "  <thead>\n",
       "    <tr style=\"text-align: right;\">\n",
       "      <th></th>\n",
       "      <th>date</th>\n",
       "      <th>time</th>\n",
       "      <th>temperature</th>\n",
       "      <th>quality</th>\n",
       "      <th>Unnamed: 4</th>\n",
       "      <th>Unnamed: 5</th>\n",
       "    </tr>\n",
       "  </thead>\n",
       "  <tbody>\n",
       "    <tr>\n",
       "      <th>569511</th>\n",
       "      <td>2022-09-01</td>\n",
       "      <td>02:00:00</td>\n",
       "      <td>8.7</td>\n",
       "      <td>G</td>\n",
       "      <td>NaN</td>\n",
       "      <td>NaN</td>\n",
       "    </tr>\n",
       "    <tr>\n",
       "      <th>569512</th>\n",
       "      <td>2022-09-01</td>\n",
       "      <td>03:00:00</td>\n",
       "      <td>9.3</td>\n",
       "      <td>G</td>\n",
       "      <td>NaN</td>\n",
       "      <td>NaN</td>\n",
       "    </tr>\n",
       "    <tr>\n",
       "      <th>569513</th>\n",
       "      <td>2022-09-01</td>\n",
       "      <td>04:00:00</td>\n",
       "      <td>8.9</td>\n",
       "      <td>G</td>\n",
       "      <td>NaN</td>\n",
       "      <td>NaN</td>\n",
       "    </tr>\n",
       "    <tr>\n",
       "      <th>569514</th>\n",
       "      <td>2022-09-01</td>\n",
       "      <td>05:00:00</td>\n",
       "      <td>7.7</td>\n",
       "      <td>G</td>\n",
       "      <td>NaN</td>\n",
       "      <td>NaN</td>\n",
       "    </tr>\n",
       "    <tr>\n",
       "      <th>569515</th>\n",
       "      <td>2022-09-01</td>\n",
       "      <td>06:00:00</td>\n",
       "      <td>10.0</td>\n",
       "      <td>G</td>\n",
       "      <td>NaN</td>\n",
       "      <td>NaN</td>\n",
       "    </tr>\n",
       "  </tbody>\n",
       "</table>\n",
       "</div>"
      ],
      "text/plain": [
       "              date      time  temperature quality  Unnamed: 4  Unnamed: 5\n",
       "569511  2022-09-01  02:00:00          8.7       G         NaN         NaN\n",
       "569512  2022-09-01  03:00:00          9.3       G         NaN         NaN\n",
       "569513  2022-09-01  04:00:00          8.9       G         NaN         NaN\n",
       "569514  2022-09-01  05:00:00          7.7       G         NaN         NaN\n",
       "569515  2022-09-01  06:00:00         10.0       G         NaN         NaN"
      ]
     },
     "execution_count": 1193,
     "metadata": {},
     "output_type": "execute_result"
    }
   ],
   "source": [
    "large_df.tail()"
   ]
  },
  {
   "attachments": {},
   "cell_type": "markdown",
   "metadata": {},
   "source": [
    "After loading the large dataset into a data frame and then taking the head and tail we can see that the first entry is july 1st 1944 and consists of four columns:\n",
    "\n",
    "- Date\n",
    "- Time (UTC)\n",
    "- Temperature (air)\n",
    "- Quality \n",
    "\n",
    "The last entry is for september 1st 2022."
   ]
  },
  {
   "cell_type": "code",
   "execution_count": 1194,
   "metadata": {},
   "outputs": [
    {
     "data": {
      "text/plain": [
       "(569516, 6)"
      ]
     },
     "execution_count": 1194,
     "metadata": {},
     "output_type": "execute_result"
    }
   ],
   "source": [
    "large_df.shape"
   ]
  },
  {
   "attachments": {},
   "cell_type": "markdown",
   "metadata": {},
   "source": [
    "*569516* rows of historical data. It's almost like being Indiana Jones and stumbling upon some old, dusty and crumpled scroll of ancient information."
   ]
  },
  {
   "cell_type": "code",
   "execution_count": 1195,
   "metadata": {},
   "outputs": [
    {
     "data": {
      "text/plain": [
       "date            object\n",
       "time            object\n",
       "temperature    float64\n",
       "quality         object\n",
       "Unnamed: 4     float64\n",
       "Unnamed: 5     float64\n",
       "dtype: object"
      ]
     },
     "execution_count": 1195,
     "metadata": {},
     "output_type": "execute_result"
    }
   ],
   "source": [
    "large_df.dtypes"
   ]
  },
  {
   "cell_type": "code",
   "execution_count": 1196,
   "metadata": {},
   "outputs": [
    {
     "data": {
      "text/plain": [
       "date                0\n",
       "time                0\n",
       "temperature         0\n",
       "quality             0\n",
       "Unnamed: 4     569516\n",
       "Unnamed: 5     569516\n",
       "dtype: int64"
      ]
     },
     "execution_count": 1196,
     "metadata": {},
     "output_type": "execute_result"
    }
   ],
   "source": [
    "large_df.isnull().sum()"
   ]
  },
  {
   "attachments": {},
   "cell_type": "markdown",
   "metadata": {},
   "source": [
    "All values are accounted for."
   ]
  },
  {
   "cell_type": "code",
   "execution_count": 1198,
   "metadata": {},
   "outputs": [
    {
     "data": {
      "text/plain": [
       "'1944-07-01'"
      ]
     },
     "execution_count": 1198,
     "metadata": {},
     "output_type": "execute_result"
    }
   ],
   "source": [
    "large_df.date.min()"
   ]
  },
  {
   "cell_type": "code",
   "execution_count": 1199,
   "metadata": {},
   "outputs": [
    {
     "data": {
      "text/plain": [
       "'2022-09-01'"
      ]
     },
     "execution_count": 1199,
     "metadata": {},
     "output_type": "execute_result"
    }
   ],
   "source": [
    "large_df.date.max()"
   ]
  },
  {
   "attachments": {},
   "cell_type": "markdown",
   "metadata": {},
   "source": [
    "~78 years worth of data."
   ]
  },
  {
   "cell_type": "code",
   "execution_count": 1200,
   "metadata": {},
   "outputs": [
    {
     "data": {
      "text/plain": [
       "-31.8"
      ]
     },
     "execution_count": 1200,
     "metadata": {},
     "output_type": "execute_result"
    }
   ],
   "source": [
    "large_df.temperature.min()"
   ]
  },
  {
   "attachments": {},
   "cell_type": "markdown",
   "metadata": {},
   "source": [
    "The coldest recorded temperature is **-31.8** and seems like a reasonable low."
   ]
  },
  {
   "cell_type": "code",
   "execution_count": 1201,
   "metadata": {},
   "outputs": [
    {
     "data": {
      "text/plain": [
       "34.4"
      ]
     },
     "execution_count": 1201,
     "metadata": {},
     "output_type": "execute_result"
    }
   ],
   "source": [
    "large_df.temperature.max()"
   ]
  },
  {
   "attachments": {},
   "cell_type": "markdown",
   "metadata": {},
   "source": [
    "The hottest temperature recorded is **34.4** and also seem like a reasonable high."
   ]
  },
  {
   "attachments": {},
   "cell_type": "markdown",
   "metadata": {},
   "source": [
    "According to the swedish national weather service https://www.smhi.se/kunskapsbanken/meteorologi/svenska-temperaturrekord/svenska-temperaturrekord-1.5792\n",
    "\n",
    "The highest recorded temperature in Sweden is 38 degrees celsius, that record high was recorded twice:\n",
    "\n",
    "- Målilla, Småland in june 1947\n",
    "- Ultuna, Uppland in july 1933\n",
    "\n",
    "On the other hand, the coldest was:\n",
    "\n",
    "- -52.6 in Vuoggatjålme in february 1966\n",
    "\n",
    "Read more about it here: https://www.smhi.se/kunskapsbanken/meteorologi/svenska-temperaturrekord/det-svenska-koldrekordet-1.5114\n"
   ]
  },
  {
   "attachments": {},
   "cell_type": "markdown",
   "metadata": {},
   "source": [
    "# Small note about compute power\n",
    "\n",
    "## I initially tried to run the model on the complete data set, it ran for a very long time. So I started experimenting with the smaller subset of data."
   ]
  },
  {
   "attachments": {},
   "cell_type": "markdown",
   "metadata": {},
   "source": [
    "## Subset\n",
    "\n",
    "Yes, this is the very small subset of the full dataset - it turns out that when you have a laptop, 78 years of data will take a **long time** to work through. So I opted for the smaller dataset. If you do have access to a more powerful machine, please experiment - the full dataset, with custom parameter is available at https://www.smhi.se/data/meteorologi/ladda-ner-meteorologiska-observationer#param=precipitationHourlySum,stations=core,stationid=97530\n"
   ]
  },
  {
   "cell_type": "code",
   "execution_count": 1202,
   "metadata": {},
   "outputs": [
    {
     "data": {
      "text/html": [
       "<div>\n",
       "<style scoped>\n",
       "    .dataframe tbody tr th:only-of-type {\n",
       "        vertical-align: middle;\n",
       "    }\n",
       "\n",
       "    .dataframe tbody tr th {\n",
       "        vertical-align: top;\n",
       "    }\n",
       "\n",
       "    .dataframe thead th {\n",
       "        text-align: right;\n",
       "    }\n",
       "</style>\n",
       "<table border=\"1\" class=\"dataframe\">\n",
       "  <thead>\n",
       "    <tr style=\"text-align: right;\">\n",
       "      <th></th>\n",
       "      <th>Date</th>\n",
       "      <th>Time</th>\n",
       "      <th>Temperature</th>\n",
       "      <th>Pressure</th>\n",
       "      <th>Humidity</th>\n",
       "      <th>Precipitation</th>\n",
       "    </tr>\n",
       "  </thead>\n",
       "  <tbody>\n",
       "    <tr>\n",
       "      <th>0</th>\n",
       "      <td>2022-09-07</td>\n",
       "      <td>01:00:00</td>\n",
       "      <td>4.9</td>\n",
       "      <td>1022.2</td>\n",
       "      <td>100</td>\n",
       "      <td>0.0</td>\n",
       "    </tr>\n",
       "    <tr>\n",
       "      <th>1</th>\n",
       "      <td>2022-09-07</td>\n",
       "      <td>02:00:00</td>\n",
       "      <td>4.7</td>\n",
       "      <td>1022.2</td>\n",
       "      <td>100</td>\n",
       "      <td>0.0</td>\n",
       "    </tr>\n",
       "    <tr>\n",
       "      <th>2</th>\n",
       "      <td>2022-09-07</td>\n",
       "      <td>03:00:00</td>\n",
       "      <td>4.1</td>\n",
       "      <td>1022.3</td>\n",
       "      <td>100</td>\n",
       "      <td>0.0</td>\n",
       "    </tr>\n",
       "    <tr>\n",
       "      <th>3</th>\n",
       "      <td>2022-09-07</td>\n",
       "      <td>04:00:00</td>\n",
       "      <td>3.7</td>\n",
       "      <td>1022.3</td>\n",
       "      <td>100</td>\n",
       "      <td>0.0</td>\n",
       "    </tr>\n",
       "    <tr>\n",
       "      <th>4</th>\n",
       "      <td>2022-09-07</td>\n",
       "      <td>05:00:00</td>\n",
       "      <td>4.7</td>\n",
       "      <td>1022.5</td>\n",
       "      <td>100</td>\n",
       "      <td>0.0</td>\n",
       "    </tr>\n",
       "    <tr>\n",
       "      <th>5</th>\n",
       "      <td>2022-09-07</td>\n",
       "      <td>06:00:00</td>\n",
       "      <td>7.5</td>\n",
       "      <td>1022.7</td>\n",
       "      <td>100</td>\n",
       "      <td>0.0</td>\n",
       "    </tr>\n",
       "    <tr>\n",
       "      <th>6</th>\n",
       "      <td>2022-09-07</td>\n",
       "      <td>07:00:00</td>\n",
       "      <td>11.0</td>\n",
       "      <td>1023.0</td>\n",
       "      <td>87</td>\n",
       "      <td>0.0</td>\n",
       "    </tr>\n",
       "    <tr>\n",
       "      <th>7</th>\n",
       "      <td>2022-09-07</td>\n",
       "      <td>08:00:00</td>\n",
       "      <td>13.7</td>\n",
       "      <td>1023.2</td>\n",
       "      <td>73</td>\n",
       "      <td>0.0</td>\n",
       "    </tr>\n",
       "    <tr>\n",
       "      <th>8</th>\n",
       "      <td>2022-09-07</td>\n",
       "      <td>09:00:00</td>\n",
       "      <td>13.8</td>\n",
       "      <td>1023.5</td>\n",
       "      <td>70</td>\n",
       "      <td>0.0</td>\n",
       "    </tr>\n",
       "    <tr>\n",
       "      <th>9</th>\n",
       "      <td>2022-09-07</td>\n",
       "      <td>10:00:00</td>\n",
       "      <td>13.7</td>\n",
       "      <td>1023.5</td>\n",
       "      <td>71</td>\n",
       "      <td>0.0</td>\n",
       "    </tr>\n",
       "    <tr>\n",
       "      <th>10</th>\n",
       "      <td>2022-09-07</td>\n",
       "      <td>11:00:00</td>\n",
       "      <td>14.1</td>\n",
       "      <td>1023.3</td>\n",
       "      <td>69</td>\n",
       "      <td>0.0</td>\n",
       "    </tr>\n",
       "    <tr>\n",
       "      <th>11</th>\n",
       "      <td>2022-09-07</td>\n",
       "      <td>12:00:00</td>\n",
       "      <td>13.7</td>\n",
       "      <td>1023.3</td>\n",
       "      <td>69</td>\n",
       "      <td>0.0</td>\n",
       "    </tr>\n",
       "    <tr>\n",
       "      <th>12</th>\n",
       "      <td>2022-09-07</td>\n",
       "      <td>13:00:00</td>\n",
       "      <td>14.1</td>\n",
       "      <td>1023.1</td>\n",
       "      <td>67</td>\n",
       "      <td>0.0</td>\n",
       "    </tr>\n",
       "    <tr>\n",
       "      <th>13</th>\n",
       "      <td>2022-09-07</td>\n",
       "      <td>14:00:00</td>\n",
       "      <td>14.2</td>\n",
       "      <td>1023.1</td>\n",
       "      <td>69</td>\n",
       "      <td>0.0</td>\n",
       "    </tr>\n",
       "    <tr>\n",
       "      <th>14</th>\n",
       "      <td>2022-09-07</td>\n",
       "      <td>15:00:00</td>\n",
       "      <td>13.7</td>\n",
       "      <td>1023.4</td>\n",
       "      <td>71</td>\n",
       "      <td>0.0</td>\n",
       "    </tr>\n",
       "    <tr>\n",
       "      <th>15</th>\n",
       "      <td>2022-09-07</td>\n",
       "      <td>16:00:00</td>\n",
       "      <td>13.4</td>\n",
       "      <td>1023.2</td>\n",
       "      <td>74</td>\n",
       "      <td>0.0</td>\n",
       "    </tr>\n",
       "    <tr>\n",
       "      <th>16</th>\n",
       "      <td>2022-09-07</td>\n",
       "      <td>17:00:00</td>\n",
       "      <td>12.7</td>\n",
       "      <td>1023.5</td>\n",
       "      <td>70</td>\n",
       "      <td>0.0</td>\n",
       "    </tr>\n",
       "    <tr>\n",
       "      <th>17</th>\n",
       "      <td>2022-09-07</td>\n",
       "      <td>18:00:00</td>\n",
       "      <td>11.4</td>\n",
       "      <td>1023.9</td>\n",
       "      <td>76</td>\n",
       "      <td>0.0</td>\n",
       "    </tr>\n",
       "    <tr>\n",
       "      <th>18</th>\n",
       "      <td>2022-09-07</td>\n",
       "      <td>19:00:00</td>\n",
       "      <td>10.8</td>\n",
       "      <td>1024.2</td>\n",
       "      <td>82</td>\n",
       "      <td>0.0</td>\n",
       "    </tr>\n",
       "    <tr>\n",
       "      <th>19</th>\n",
       "      <td>2022-09-07</td>\n",
       "      <td>20:00:00</td>\n",
       "      <td>9.9</td>\n",
       "      <td>1024.4</td>\n",
       "      <td>84</td>\n",
       "      <td>0.0</td>\n",
       "    </tr>\n",
       "  </tbody>\n",
       "</table>\n",
       "</div>"
      ],
      "text/plain": [
       "          Date      Time  Temperature  Pressure  Humidity  Precipitation\n",
       "0   2022-09-07  01:00:00          4.9    1022.2       100            0.0\n",
       "1   2022-09-07  02:00:00          4.7    1022.2       100            0.0\n",
       "2   2022-09-07  03:00:00          4.1    1022.3       100            0.0\n",
       "3   2022-09-07  04:00:00          3.7    1022.3       100            0.0\n",
       "4   2022-09-07  05:00:00          4.7    1022.5       100            0.0\n",
       "5   2022-09-07  06:00:00          7.5    1022.7       100            0.0\n",
       "6   2022-09-07  07:00:00         11.0    1023.0        87            0.0\n",
       "7   2022-09-07  08:00:00         13.7    1023.2        73            0.0\n",
       "8   2022-09-07  09:00:00         13.8    1023.5        70            0.0\n",
       "9   2022-09-07  10:00:00         13.7    1023.5        71            0.0\n",
       "10  2022-09-07  11:00:00         14.1    1023.3        69            0.0\n",
       "11  2022-09-07  12:00:00         13.7    1023.3        69            0.0\n",
       "12  2022-09-07  13:00:00         14.1    1023.1        67            0.0\n",
       "13  2022-09-07  14:00:00         14.2    1023.1        69            0.0\n",
       "14  2022-09-07  15:00:00         13.7    1023.4        71            0.0\n",
       "15  2022-09-07  16:00:00         13.4    1023.2        74            0.0\n",
       "16  2022-09-07  17:00:00         12.7    1023.5        70            0.0\n",
       "17  2022-09-07  18:00:00         11.4    1023.9        76            0.0\n",
       "18  2022-09-07  19:00:00         10.8    1024.2        82            0.0\n",
       "19  2022-09-07  20:00:00          9.9    1024.4        84            0.0"
      ]
     },
     "execution_count": 1202,
     "metadata": {},
     "output_type": "execute_result"
    }
   ],
   "source": [
    "small_df.head(20)"
   ]
  },
  {
   "attachments": {},
   "cell_type": "markdown",
   "metadata": {},
   "source": [
    "# The smaller dataset examined\n",
    "\n",
    "This dataset contains data for the last four mounths. It contains the date in UTC-format, Time, Temperature in degrees Celsius/Centrigrade, Pressure in hektoPascal, the relative air humidity and precipitation in mm."
   ]
  },
  {
   "cell_type": "code",
   "execution_count": 1203,
   "metadata": {},
   "outputs": [
    {
     "data": {
      "text/html": [
       "<div>\n",
       "<style scoped>\n",
       "    .dataframe tbody tr th:only-of-type {\n",
       "        vertical-align: middle;\n",
       "    }\n",
       "\n",
       "    .dataframe tbody tr th {\n",
       "        vertical-align: top;\n",
       "    }\n",
       "\n",
       "    .dataframe thead th {\n",
       "        text-align: right;\n",
       "    }\n",
       "</style>\n",
       "<table border=\"1\" class=\"dataframe\">\n",
       "  <thead>\n",
       "    <tr style=\"text-align: right;\">\n",
       "      <th></th>\n",
       "      <th>Date</th>\n",
       "      <th>Time</th>\n",
       "      <th>Temperature</th>\n",
       "      <th>Pressure</th>\n",
       "      <th>Humidity</th>\n",
       "      <th>Precipitation</th>\n",
       "    </tr>\n",
       "  </thead>\n",
       "  <tbody>\n",
       "    <tr>\n",
       "      <th>3084</th>\n",
       "      <td>2023-01-14</td>\n",
       "      <td>07:00:00</td>\n",
       "      <td>3.8</td>\n",
       "      <td>994.1</td>\n",
       "      <td>100</td>\n",
       "      <td>0.0</td>\n",
       "    </tr>\n",
       "    <tr>\n",
       "      <th>3085</th>\n",
       "      <td>2023-01-14</td>\n",
       "      <td>08:00:00</td>\n",
       "      <td>3.6</td>\n",
       "      <td>994.7</td>\n",
       "      <td>100</td>\n",
       "      <td>0.4</td>\n",
       "    </tr>\n",
       "    <tr>\n",
       "      <th>3086</th>\n",
       "      <td>2023-01-14</td>\n",
       "      <td>09:00:00</td>\n",
       "      <td>3.5</td>\n",
       "      <td>995.0</td>\n",
       "      <td>100</td>\n",
       "      <td>1.0</td>\n",
       "    </tr>\n",
       "    <tr>\n",
       "      <th>3087</th>\n",
       "      <td>2023-01-14</td>\n",
       "      <td>10:00:00</td>\n",
       "      <td>2.4</td>\n",
       "      <td>995.3</td>\n",
       "      <td>100</td>\n",
       "      <td>0.1</td>\n",
       "    </tr>\n",
       "    <tr>\n",
       "      <th>3088</th>\n",
       "      <td>2023-01-14</td>\n",
       "      <td>11:00:00</td>\n",
       "      <td>2.1</td>\n",
       "      <td>995.7</td>\n",
       "      <td>100</td>\n",
       "      <td>0.0</td>\n",
       "    </tr>\n",
       "    <tr>\n",
       "      <th>3089</th>\n",
       "      <td>2023-01-14</td>\n",
       "      <td>12:00:00</td>\n",
       "      <td>1.8</td>\n",
       "      <td>996.4</td>\n",
       "      <td>100</td>\n",
       "      <td>0.0</td>\n",
       "    </tr>\n",
       "    <tr>\n",
       "      <th>3090</th>\n",
       "      <td>2023-01-14</td>\n",
       "      <td>13:00:00</td>\n",
       "      <td>1.7</td>\n",
       "      <td>997.2</td>\n",
       "      <td>100</td>\n",
       "      <td>0.0</td>\n",
       "    </tr>\n",
       "    <tr>\n",
       "      <th>3091</th>\n",
       "      <td>2023-01-14</td>\n",
       "      <td>14:00:00</td>\n",
       "      <td>1.2</td>\n",
       "      <td>997.6</td>\n",
       "      <td>100</td>\n",
       "      <td>0.1</td>\n",
       "    </tr>\n",
       "    <tr>\n",
       "      <th>3092</th>\n",
       "      <td>2023-01-14</td>\n",
       "      <td>15:00:00</td>\n",
       "      <td>0.8</td>\n",
       "      <td>997.9</td>\n",
       "      <td>100</td>\n",
       "      <td>0.3</td>\n",
       "    </tr>\n",
       "    <tr>\n",
       "      <th>3093</th>\n",
       "      <td>2023-01-14</td>\n",
       "      <td>16:00:00</td>\n",
       "      <td>0.7</td>\n",
       "      <td>997.8</td>\n",
       "      <td>100</td>\n",
       "      <td>0.4</td>\n",
       "    </tr>\n",
       "    <tr>\n",
       "      <th>3094</th>\n",
       "      <td>2023-01-14</td>\n",
       "      <td>17:00:00</td>\n",
       "      <td>0.6</td>\n",
       "      <td>998.1</td>\n",
       "      <td>100</td>\n",
       "      <td>0.2</td>\n",
       "    </tr>\n",
       "    <tr>\n",
       "      <th>3095</th>\n",
       "      <td>2023-01-14</td>\n",
       "      <td>18:00:00</td>\n",
       "      <td>0.5</td>\n",
       "      <td>998.0</td>\n",
       "      <td>100</td>\n",
       "      <td>0.1</td>\n",
       "    </tr>\n",
       "    <tr>\n",
       "      <th>3096</th>\n",
       "      <td>2023-01-14</td>\n",
       "      <td>19:00:00</td>\n",
       "      <td>0.2</td>\n",
       "      <td>997.4</td>\n",
       "      <td>100</td>\n",
       "      <td>0.1</td>\n",
       "    </tr>\n",
       "    <tr>\n",
       "      <th>3097</th>\n",
       "      <td>2023-01-14</td>\n",
       "      <td>20:00:00</td>\n",
       "      <td>0.4</td>\n",
       "      <td>997.0</td>\n",
       "      <td>100</td>\n",
       "      <td>0.4</td>\n",
       "    </tr>\n",
       "    <tr>\n",
       "      <th>3098</th>\n",
       "      <td>2023-01-14</td>\n",
       "      <td>21:00:00</td>\n",
       "      <td>0.7</td>\n",
       "      <td>996.0</td>\n",
       "      <td>99</td>\n",
       "      <td>0.4</td>\n",
       "    </tr>\n",
       "    <tr>\n",
       "      <th>3099</th>\n",
       "      <td>2023-01-14</td>\n",
       "      <td>22:00:00</td>\n",
       "      <td>1.0</td>\n",
       "      <td>994.0</td>\n",
       "      <td>97</td>\n",
       "      <td>0.2</td>\n",
       "    </tr>\n",
       "    <tr>\n",
       "      <th>3100</th>\n",
       "      <td>2023-01-14</td>\n",
       "      <td>23:00:00</td>\n",
       "      <td>1.2</td>\n",
       "      <td>992.5</td>\n",
       "      <td>97</td>\n",
       "      <td>0.1</td>\n",
       "    </tr>\n",
       "    <tr>\n",
       "      <th>3101</th>\n",
       "      <td>2023-01-15</td>\n",
       "      <td>00:00:00</td>\n",
       "      <td>1.9</td>\n",
       "      <td>990.4</td>\n",
       "      <td>98</td>\n",
       "      <td>0.4</td>\n",
       "    </tr>\n",
       "    <tr>\n",
       "      <th>3102</th>\n",
       "      <td>2023-01-15</td>\n",
       "      <td>01:00:00</td>\n",
       "      <td>2.6</td>\n",
       "      <td>987.8</td>\n",
       "      <td>99</td>\n",
       "      <td>0.6</td>\n",
       "    </tr>\n",
       "    <tr>\n",
       "      <th>3103</th>\n",
       "      <td>2023-01-15</td>\n",
       "      <td>02:00:00</td>\n",
       "      <td>3.3</td>\n",
       "      <td>985.1</td>\n",
       "      <td>96</td>\n",
       "      <td>0.4</td>\n",
       "    </tr>\n",
       "  </tbody>\n",
       "</table>\n",
       "</div>"
      ],
      "text/plain": [
       "            Date      Time  Temperature  Pressure  Humidity  Precipitation\n",
       "3084  2023-01-14  07:00:00          3.8     994.1       100            0.0\n",
       "3085  2023-01-14  08:00:00          3.6     994.7       100            0.4\n",
       "3086  2023-01-14  09:00:00          3.5     995.0       100            1.0\n",
       "3087  2023-01-14  10:00:00          2.4     995.3       100            0.1\n",
       "3088  2023-01-14  11:00:00          2.1     995.7       100            0.0\n",
       "3089  2023-01-14  12:00:00          1.8     996.4       100            0.0\n",
       "3090  2023-01-14  13:00:00          1.7     997.2       100            0.0\n",
       "3091  2023-01-14  14:00:00          1.2     997.6       100            0.1\n",
       "3092  2023-01-14  15:00:00          0.8     997.9       100            0.3\n",
       "3093  2023-01-14  16:00:00          0.7     997.8       100            0.4\n",
       "3094  2023-01-14  17:00:00          0.6     998.1       100            0.2\n",
       "3095  2023-01-14  18:00:00          0.5     998.0       100            0.1\n",
       "3096  2023-01-14  19:00:00          0.2     997.4       100            0.1\n",
       "3097  2023-01-14  20:00:00          0.4     997.0       100            0.4\n",
       "3098  2023-01-14  21:00:00          0.7     996.0        99            0.4\n",
       "3099  2023-01-14  22:00:00          1.0     994.0        97            0.2\n",
       "3100  2023-01-14  23:00:00          1.2     992.5        97            0.1\n",
       "3101  2023-01-15  00:00:00          1.9     990.4        98            0.4\n",
       "3102  2023-01-15  01:00:00          2.6     987.8        99            0.6\n",
       "3103  2023-01-15  02:00:00          3.3     985.1        96            0.4"
      ]
     },
     "execution_count": 1203,
     "metadata": {},
     "output_type": "execute_result"
    }
   ],
   "source": [
    "small_df.tail(20)"
   ]
  },
  {
   "attachments": {},
   "cell_type": "markdown",
   "metadata": {},
   "source": [
    "# Dates\n",
    "\n",
    "The data ranges from the dates 2022-09-07 up to 2023-01-15"
   ]
  },
  {
   "cell_type": "code",
   "execution_count": 1204,
   "metadata": {},
   "outputs": [
    {
     "data": {
      "text/plain": [
       "(3104, 6)"
      ]
     },
     "execution_count": 1204,
     "metadata": {},
     "output_type": "execute_result"
    }
   ],
   "source": [
    "small_df.shape"
   ]
  },
  {
   "cell_type": "code",
   "execution_count": 1205,
   "metadata": {},
   "outputs": [
    {
     "data": {
      "text/html": [
       "<div>\n",
       "<style scoped>\n",
       "    .dataframe tbody tr th:only-of-type {\n",
       "        vertical-align: middle;\n",
       "    }\n",
       "\n",
       "    .dataframe tbody tr th {\n",
       "        vertical-align: top;\n",
       "    }\n",
       "\n",
       "    .dataframe thead th {\n",
       "        text-align: right;\n",
       "    }\n",
       "</style>\n",
       "<table border=\"1\" class=\"dataframe\">\n",
       "  <thead>\n",
       "    <tr style=\"text-align: right;\">\n",
       "      <th></th>\n",
       "      <th>Temperature</th>\n",
       "      <th>Pressure</th>\n",
       "      <th>Humidity</th>\n",
       "      <th>Precipitation</th>\n",
       "    </tr>\n",
       "  </thead>\n",
       "  <tbody>\n",
       "    <tr>\n",
       "      <th>count</th>\n",
       "      <td>3104.000000</td>\n",
       "      <td>3104.000000</td>\n",
       "      <td>3104.000000</td>\n",
       "      <td>3104.000000</td>\n",
       "    </tr>\n",
       "    <tr>\n",
       "      <th>mean</th>\n",
       "      <td>3.896134</td>\n",
       "      <td>1011.548003</td>\n",
       "      <td>91.888531</td>\n",
       "      <td>0.054897</td>\n",
       "    </tr>\n",
       "    <tr>\n",
       "      <th>std</th>\n",
       "      <td>7.259277</td>\n",
       "      <td>10.660416</td>\n",
       "      <td>9.577431</td>\n",
       "      <td>0.322777</td>\n",
       "    </tr>\n",
       "    <tr>\n",
       "      <th>min</th>\n",
       "      <td>-23.100000</td>\n",
       "      <td>985.100000</td>\n",
       "      <td>50.000000</td>\n",
       "      <td>0.000000</td>\n",
       "    </tr>\n",
       "    <tr>\n",
       "      <th>25%</th>\n",
       "      <td>0.100000</td>\n",
       "      <td>1004.200000</td>\n",
       "      <td>88.000000</td>\n",
       "      <td>0.000000</td>\n",
       "    </tr>\n",
       "    <tr>\n",
       "      <th>50%</th>\n",
       "      <td>4.200000</td>\n",
       "      <td>1011.500000</td>\n",
       "      <td>95.000000</td>\n",
       "      <td>0.000000</td>\n",
       "    </tr>\n",
       "    <tr>\n",
       "      <th>75%</th>\n",
       "      <td>9.600000</td>\n",
       "      <td>1018.600000</td>\n",
       "      <td>99.000000</td>\n",
       "      <td>0.000000</td>\n",
       "    </tr>\n",
       "    <tr>\n",
       "      <th>max</th>\n",
       "      <td>18.100000</td>\n",
       "      <td>1037.200000</td>\n",
       "      <td>100.000000</td>\n",
       "      <td>10.000000</td>\n",
       "    </tr>\n",
       "  </tbody>\n",
       "</table>\n",
       "</div>"
      ],
      "text/plain": [
       "       Temperature     Pressure     Humidity  Precipitation\n",
       "count  3104.000000  3104.000000  3104.000000    3104.000000\n",
       "mean      3.896134  1011.548003    91.888531       0.054897\n",
       "std       7.259277    10.660416     9.577431       0.322777\n",
       "min     -23.100000   985.100000    50.000000       0.000000\n",
       "25%       0.100000  1004.200000    88.000000       0.000000\n",
       "50%       4.200000  1011.500000    95.000000       0.000000\n",
       "75%       9.600000  1018.600000    99.000000       0.000000\n",
       "max      18.100000  1037.200000   100.000000      10.000000"
      ]
     },
     "execution_count": 1205,
     "metadata": {},
     "output_type": "execute_result"
    }
   ],
   "source": [
    "small_df.describe()"
   ]
  },
  {
   "cell_type": "code",
   "execution_count": 1206,
   "metadata": {},
   "outputs": [
    {
     "name": "stdout",
     "output_type": "stream",
     "text": [
      "<class 'pandas.core.frame.DataFrame'>\n",
      "RangeIndex: 3104 entries, 0 to 3103\n",
      "Data columns (total 6 columns):\n",
      " #   Column         Non-Null Count  Dtype  \n",
      "---  ------         --------------  -----  \n",
      " 0   Date           3104 non-null   object \n",
      " 1   Time           3104 non-null   object \n",
      " 2   Temperature    3104 non-null   float64\n",
      " 3   Pressure       3104 non-null   float64\n",
      " 4   Humidity       3104 non-null   int64  \n",
      " 5   Precipitation  3104 non-null   float64\n",
      "dtypes: float64(3), int64(1), object(2)\n",
      "memory usage: 145.6+ KB\n"
     ]
    }
   ],
   "source": [
    "small_df.info()"
   ]
  },
  {
   "cell_type": "code",
   "execution_count": 1207,
   "metadata": {},
   "outputs": [
    {
     "data": {
      "text/plain": [
       "Date              object\n",
       "Time              object\n",
       "Temperature      float64\n",
       "Pressure         float64\n",
       "Humidity           int64\n",
       "Precipitation    float64\n",
       "dtype: object"
      ]
     },
     "execution_count": 1207,
     "metadata": {},
     "output_type": "execute_result"
    }
   ],
   "source": [
    "small_df.dtypes"
   ]
  },
  {
   "cell_type": "code",
   "execution_count": 1208,
   "metadata": {},
   "outputs": [
    {
     "name": "stderr",
     "output_type": "stream",
     "text": [
      "/var/folders/vs/plw19_jx3311jw4q64_4tk_00000gn/T/ipykernel_16662/2970649995.py:1: FutureWarning: The default value of numeric_only in DataFrame.corr is deprecated. In a future version, it will default to False. Select only valid columns or specify the value of numeric_only to silence this warning.\n",
      "  small_df.corr()\n"
     ]
    },
    {
     "data": {
      "text/html": [
       "<div>\n",
       "<style scoped>\n",
       "    .dataframe tbody tr th:only-of-type {\n",
       "        vertical-align: middle;\n",
       "    }\n",
       "\n",
       "    .dataframe tbody tr th {\n",
       "        vertical-align: top;\n",
       "    }\n",
       "\n",
       "    .dataframe thead th {\n",
       "        text-align: right;\n",
       "    }\n",
       "</style>\n",
       "<table border=\"1\" class=\"dataframe\">\n",
       "  <thead>\n",
       "    <tr style=\"text-align: right;\">\n",
       "      <th></th>\n",
       "      <th>Temperature</th>\n",
       "      <th>Pressure</th>\n",
       "      <th>Humidity</th>\n",
       "      <th>Precipitation</th>\n",
       "    </tr>\n",
       "  </thead>\n",
       "  <tbody>\n",
       "    <tr>\n",
       "      <th>Temperature</th>\n",
       "      <td>1.000000</td>\n",
       "      <td>-0.166855</td>\n",
       "      <td>-0.261177</td>\n",
       "      <td>0.030077</td>\n",
       "    </tr>\n",
       "    <tr>\n",
       "      <th>Pressure</th>\n",
       "      <td>-0.166855</td>\n",
       "      <td>1.000000</td>\n",
       "      <td>-0.026049</td>\n",
       "      <td>-0.111772</td>\n",
       "    </tr>\n",
       "    <tr>\n",
       "      <th>Humidity</th>\n",
       "      <td>-0.261177</td>\n",
       "      <td>-0.026049</td>\n",
       "      <td>1.000000</td>\n",
       "      <td>0.044544</td>\n",
       "    </tr>\n",
       "    <tr>\n",
       "      <th>Precipitation</th>\n",
       "      <td>0.030077</td>\n",
       "      <td>-0.111772</td>\n",
       "      <td>0.044544</td>\n",
       "      <td>1.000000</td>\n",
       "    </tr>\n",
       "  </tbody>\n",
       "</table>\n",
       "</div>"
      ],
      "text/plain": [
       "               Temperature  Pressure  Humidity  Precipitation\n",
       "Temperature       1.000000 -0.166855 -0.261177       0.030077\n",
       "Pressure         -0.166855  1.000000 -0.026049      -0.111772\n",
       "Humidity         -0.261177 -0.026049  1.000000       0.044544\n",
       "Precipitation     0.030077 -0.111772  0.044544       1.000000"
      ]
     },
     "execution_count": 1208,
     "metadata": {},
     "output_type": "execute_result"
    }
   ],
   "source": [
    "small_df.corr()"
   ]
  },
  {
   "cell_type": "code",
   "execution_count": 1209,
   "metadata": {},
   "outputs": [
    {
     "name": "stderr",
     "output_type": "stream",
     "text": [
      "/var/folders/vs/plw19_jx3311jw4q64_4tk_00000gn/T/ipykernel_16662/2828333660.py:1: FutureWarning: The default value of numeric_only in DataFrame.corr is deprecated. In a future version, it will default to False. Select only valid columns or specify the value of numeric_only to silence this warning.\n",
      "  sns.heatmap(small_df.corr(), annot=True, fmt='.2f')\n"
     ]
    },
    {
     "data": {
      "text/plain": [
       "<AxesSubplot: >"
      ]
     },
     "execution_count": 1209,
     "metadata": {},
     "output_type": "execute_result"
    },
    {
     "data": {
      "image/png": "[encoded data removed]",
      "text/plain": [
       "<Figure size 640x480 with 2 Axes>"
      ]
     },
     "metadata": {},
     "output_type": "display_data"
    }
   ],
   "source": [
    "sns.heatmap(small_df.corr(), annot=True, fmt='.2f')"
   ]
  },
  {
   "cell_type": "code",
   "execution_count": 1210,
   "metadata": {},
   "outputs": [
    {
     "data": {
      "text/plain": [
       "-23.1"
      ]
     },
     "execution_count": 1210,
     "metadata": {},
     "output_type": "execute_result"
    }
   ],
   "source": [
    "small_df.Temperature.min()"
   ]
  },
  {
   "cell_type": "code",
   "execution_count": 1211,
   "metadata": {},
   "outputs": [
    {
     "data": {
      "text/plain": [
       "18.1"
      ]
     },
     "execution_count": 1211,
     "metadata": {},
     "output_type": "execute_result"
    }
   ],
   "source": [
    "small_df.Temperature.max()"
   ]
  },
  {
   "cell_type": "code",
   "execution_count": 1212,
   "metadata": {},
   "outputs": [
    {
     "data": {
      "text/plain": [
       "10.0"
      ]
     },
     "execution_count": 1212,
     "metadata": {},
     "output_type": "execute_result"
    }
   ],
   "source": [
    "small_df.Precipitation.max()"
   ]
  },
  {
   "cell_type": "code",
   "execution_count": 1213,
   "metadata": {},
   "outputs": [
    {
     "data": {
      "text/plain": [
       "0.0"
      ]
     },
     "execution_count": 1213,
     "metadata": {},
     "output_type": "execute_result"
    }
   ],
   "source": [
    "small_df.Precipitation.min()"
   ]
  },
  {
   "cell_type": "code",
   "execution_count": 1214,
   "metadata": {},
   "outputs": [],
   "source": [
    "small_df['Date'] = pd.to_datetime(small_df['Date'])"
   ]
  },
  {
   "cell_type": "code",
   "execution_count": 1215,
   "metadata": {},
   "outputs": [
    {
     "name": "stderr",
     "output_type": "stream",
     "text": [
      "/var/folders/vs/plw19_jx3311jw4q64_4tk_00000gn/T/ipykernel_16662/2105722831.py:1: FutureWarning: The default value of numeric_only in DataFrameGroupBy.mean is deprecated. In a future version, numeric_only will default to False. Either specify numeric_only or select only columns which should be valid for the function.\n",
      "  df_pruned = small_df.resample('D', on=\"Date\").mean()\n"
     ]
    },
    {
     "data": {
      "text/html": [
       "<div>\n",
       "<style scoped>\n",
       "    .dataframe tbody tr th:only-of-type {\n",
       "        vertical-align: middle;\n",
       "    }\n",
       "\n",
       "    .dataframe tbody tr th {\n",
       "        vertical-align: top;\n",
       "    }\n",
       "\n",
       "    .dataframe thead th {\n",
       "        text-align: right;\n",
       "    }\n",
       "</style>\n",
       "<table border=\"1\" class=\"dataframe\">\n",
       "  <thead>\n",
       "    <tr style=\"text-align: right;\">\n",
       "      <th></th>\n",
       "      <th>Date</th>\n",
       "      <th>Time</th>\n",
       "      <th>Temperature</th>\n",
       "      <th>Pressure</th>\n",
       "      <th>Humidity</th>\n",
       "      <th>Precipitation</th>\n",
       "    </tr>\n",
       "  </thead>\n",
       "  <tbody>\n",
       "    <tr>\n",
       "      <th>3099</th>\n",
       "      <td>2023-01-14</td>\n",
       "      <td>22:00:00</td>\n",
       "      <td>1.0</td>\n",
       "      <td>994.0</td>\n",
       "      <td>97</td>\n",
       "      <td>0.2</td>\n",
       "    </tr>\n",
       "    <tr>\n",
       "      <th>3100</th>\n",
       "      <td>2023-01-14</td>\n",
       "      <td>23:00:00</td>\n",
       "      <td>1.2</td>\n",
       "      <td>992.5</td>\n",
       "      <td>97</td>\n",
       "      <td>0.1</td>\n",
       "    </tr>\n",
       "    <tr>\n",
       "      <th>3101</th>\n",
       "      <td>2023-01-15</td>\n",
       "      <td>00:00:00</td>\n",
       "      <td>1.9</td>\n",
       "      <td>990.4</td>\n",
       "      <td>98</td>\n",
       "      <td>0.4</td>\n",
       "    </tr>\n",
       "    <tr>\n",
       "      <th>3102</th>\n",
       "      <td>2023-01-15</td>\n",
       "      <td>01:00:00</td>\n",
       "      <td>2.6</td>\n",
       "      <td>987.8</td>\n",
       "      <td>99</td>\n",
       "      <td>0.6</td>\n",
       "    </tr>\n",
       "    <tr>\n",
       "      <th>3103</th>\n",
       "      <td>2023-01-15</td>\n",
       "      <td>02:00:00</td>\n",
       "      <td>3.3</td>\n",
       "      <td>985.1</td>\n",
       "      <td>96</td>\n",
       "      <td>0.4</td>\n",
       "    </tr>\n",
       "  </tbody>\n",
       "</table>\n",
       "</div>"
      ],
      "text/plain": [
       "           Date      Time  Temperature  Pressure  Humidity  Precipitation\n",
       "3099 2023-01-14  22:00:00          1.0     994.0        97            0.2\n",
       "3100 2023-01-14  23:00:00          1.2     992.5        97            0.1\n",
       "3101 2023-01-15  00:00:00          1.9     990.4        98            0.4\n",
       "3102 2023-01-15  01:00:00          2.6     987.8        99            0.6\n",
       "3103 2023-01-15  02:00:00          3.3     985.1        96            0.4"
      ]
     },
     "execution_count": 1215,
     "metadata": {},
     "output_type": "execute_result"
    }
   ],
   "source": [
    "df_pruned = small_df.resample('D', on=\"Date\").mean()\n",
    "df_pruned = small_df.dropna()\n",
    "df_pruned.tail()"
   ]
  },
  {
   "cell_type": "code",
   "execution_count": 1216,
   "metadata": {},
   "outputs": [
    {
     "data": {
      "image/png": "[encoded data removed]",
      "text/plain": [
       "<Figure size 1500x500 with 1 Axes>"
      ]
     },
     "metadata": {},
     "output_type": "display_data"
    }
   ],
   "source": [
    "plt.figure(figsize = (15,5))\n",
    "fig = plt.plot(small_df['Date'],small_df['Temperature'])\n",
    "plt.grid();"
   ]
  },
  {
   "attachments": {},
   "cell_type": "markdown",
   "metadata": {},
   "source": [
    "# Hot and cold\n",
    "\n",
    "It was a really warm fall, quite regular until we enter december, and just past december 11th. It then plummets a lot around december 15th."
   ]
  },
  {
   "cell_type": "code",
   "execution_count": 1218,
   "metadata": {},
   "outputs": [
    {
     "data": {
      "text/plain": [
       "Date             datetime64[ns]\n",
       "Time                     object\n",
       "Temperature             float64\n",
       "Pressure                float64\n",
       "Humidity                  int64\n",
       "Precipitation           float64\n",
       "dtype: object"
      ]
     },
     "execution_count": 1218,
     "metadata": {},
     "output_type": "execute_result"
    }
   ],
   "source": [
    "small_df.dtypes"
   ]
  },
  {
   "cell_type": "code",
   "execution_count": 1219,
   "metadata": {},
   "outputs": [
    {
     "data": {
      "text/plain": [
       "(3104, 6)"
      ]
     },
     "execution_count": 1219,
     "metadata": {},
     "output_type": "execute_result"
    }
   ],
   "source": [
    "small_df.shape"
   ]
  },
  {
   "attachments": {},
   "cell_type": "markdown",
   "metadata": {},
   "source": [
    "# Catwalk time\n",
    "\n",
    "So, let's train the above data on a model and see if we can get any predictions. First let's go over the data in more detail and remove any outliers, missing data etc"
   ]
  },
  {
   "cell_type": "code",
   "execution_count": 1220,
   "metadata": {},
   "outputs": [
    {
     "name": "stdout",
     "output_type": "stream",
     "text": [
      "False\n"
     ]
    }
   ],
   "source": [
    "print(small_df.isnull().values.any())"
   ]
  },
  {
   "cell_type": "code",
   "execution_count": 1221,
   "metadata": {},
   "outputs": [],
   "source": [
    "small_df.drop([\"Date\"], axis=1, inplace=True)\n",
    "small_df.drop([\"Time\"], axis=1, inplace=True)"
   ]
  },
  {
   "cell_type": "code",
   "execution_count": 1222,
   "metadata": {},
   "outputs": [
    {
     "data": {
      "text/html": [
       "<div>\n",
       "<style scoped>\n",
       "    .dataframe tbody tr th:only-of-type {\n",
       "        vertical-align: middle;\n",
       "    }\n",
       "\n",
       "    .dataframe tbody tr th {\n",
       "        vertical-align: top;\n",
       "    }\n",
       "\n",
       "    .dataframe thead th {\n",
       "        text-align: right;\n",
       "    }\n",
       "</style>\n",
       "<table border=\"1\" class=\"dataframe\">\n",
       "  <thead>\n",
       "    <tr style=\"text-align: right;\">\n",
       "      <th></th>\n",
       "      <th>Temperature</th>\n",
       "      <th>Pressure</th>\n",
       "      <th>Humidity</th>\n",
       "      <th>Precipitation</th>\n",
       "    </tr>\n",
       "  </thead>\n",
       "  <tbody>\n",
       "    <tr>\n",
       "      <th>0</th>\n",
       "      <td>4.9</td>\n",
       "      <td>1022.2</td>\n",
       "      <td>100</td>\n",
       "      <td>0.0</td>\n",
       "    </tr>\n",
       "    <tr>\n",
       "      <th>1</th>\n",
       "      <td>4.7</td>\n",
       "      <td>1022.2</td>\n",
       "      <td>100</td>\n",
       "      <td>0.0</td>\n",
       "    </tr>\n",
       "    <tr>\n",
       "      <th>2</th>\n",
       "      <td>4.1</td>\n",
       "      <td>1022.3</td>\n",
       "      <td>100</td>\n",
       "      <td>0.0</td>\n",
       "    </tr>\n",
       "    <tr>\n",
       "      <th>3</th>\n",
       "      <td>3.7</td>\n",
       "      <td>1022.3</td>\n",
       "      <td>100</td>\n",
       "      <td>0.0</td>\n",
       "    </tr>\n",
       "    <tr>\n",
       "      <th>4</th>\n",
       "      <td>4.7</td>\n",
       "      <td>1022.5</td>\n",
       "      <td>100</td>\n",
       "      <td>0.0</td>\n",
       "    </tr>\n",
       "  </tbody>\n",
       "</table>\n",
       "</div>"
      ],
      "text/plain": [
       "   Temperature  Pressure  Humidity  Precipitation\n",
       "0          4.9    1022.2       100            0.0\n",
       "1          4.7    1022.2       100            0.0\n",
       "2          4.1    1022.3       100            0.0\n",
       "3          3.7    1022.3       100            0.0\n",
       "4          4.7    1022.5       100            0.0"
      ]
     },
     "execution_count": 1222,
     "metadata": {},
     "output_type": "execute_result"
    }
   ],
   "source": [
    "small_df.head()"
   ]
  },
  {
   "attachments": {},
   "cell_type": "markdown",
   "metadata": {},
   "source": [
    "# X and Y data for the model"
   ]
  },
  {
   "cell_type": "code",
   "execution_count": 1223,
   "metadata": {},
   "outputs": [],
   "source": [
    "X = small_df.drop([\"Temperature\"], axis=1)\n",
    "y = small_df[\"Temperature\"]"
   ]
  },
  {
   "cell_type": "code",
   "execution_count": 1224,
   "metadata": {},
   "outputs": [
    {
     "data": {
      "text/html": [
       "<div>\n",
       "<style scoped>\n",
       "    .dataframe tbody tr th:only-of-type {\n",
       "        vertical-align: middle;\n",
       "    }\n",
       "\n",
       "    .dataframe tbody tr th {\n",
       "        vertical-align: top;\n",
       "    }\n",
       "\n",
       "    .dataframe thead th {\n",
       "        text-align: right;\n",
       "    }\n",
       "</style>\n",
       "<table border=\"1\" class=\"dataframe\">\n",
       "  <thead>\n",
       "    <tr style=\"text-align: right;\">\n",
       "      <th></th>\n",
       "      <th>Pressure</th>\n",
       "      <th>Humidity</th>\n",
       "      <th>Precipitation</th>\n",
       "    </tr>\n",
       "  </thead>\n",
       "  <tbody>\n",
       "    <tr>\n",
       "      <th>0</th>\n",
       "      <td>1022.2</td>\n",
       "      <td>100</td>\n",
       "      <td>0.0</td>\n",
       "    </tr>\n",
       "    <tr>\n",
       "      <th>1</th>\n",
       "      <td>1022.2</td>\n",
       "      <td>100</td>\n",
       "      <td>0.0</td>\n",
       "    </tr>\n",
       "    <tr>\n",
       "      <th>2</th>\n",
       "      <td>1022.3</td>\n",
       "      <td>100</td>\n",
       "      <td>0.0</td>\n",
       "    </tr>\n",
       "    <tr>\n",
       "      <th>3</th>\n",
       "      <td>1022.3</td>\n",
       "      <td>100</td>\n",
       "      <td>0.0</td>\n",
       "    </tr>\n",
       "    <tr>\n",
       "      <th>4</th>\n",
       "      <td>1022.5</td>\n",
       "      <td>100</td>\n",
       "      <td>0.0</td>\n",
       "    </tr>\n",
       "  </tbody>\n",
       "</table>\n",
       "</div>"
      ],
      "text/plain": [
       "   Pressure  Humidity  Precipitation\n",
       "0    1022.2       100            0.0\n",
       "1    1022.2       100            0.0\n",
       "2    1022.3       100            0.0\n",
       "3    1022.3       100            0.0\n",
       "4    1022.5       100            0.0"
      ]
     },
     "execution_count": 1224,
     "metadata": {},
     "output_type": "execute_result"
    }
   ],
   "source": [
    "X.head()"
   ]
  },
  {
   "cell_type": "code",
   "execution_count": 1225,
   "metadata": {},
   "outputs": [
    {
     "data": {
      "text/plain": [
       "0    4.9\n",
       "1    4.7\n",
       "2    4.1\n",
       "3    3.7\n",
       "4    4.7\n",
       "Name: Temperature, dtype: float64"
      ]
     },
     "execution_count": 1225,
     "metadata": {},
     "output_type": "execute_result"
    }
   ],
   "source": [
    "y.head()"
   ]
  },
  {
   "attachments": {},
   "cell_type": "markdown",
   "metadata": {},
   "source": [
    "# Do the split"
   ]
  },
  {
   "cell_type": "code",
   "execution_count": 1226,
   "metadata": {},
   "outputs": [],
   "source": [
    "X_train, X_test, y_train, y_test = train_test_split(X, y, test_size=0.2, random_state=42)"
   ]
  },
  {
   "cell_type": "code",
   "execution_count": 1227,
   "metadata": {},
   "outputs": [
    {
     "name": "stdout",
     "output_type": "stream",
     "text": [
      "(2483, 3)\n"
     ]
    }
   ],
   "source": [
    "print(X_train.shape)"
   ]
  },
  {
   "cell_type": "code",
   "execution_count": 1228,
   "metadata": {},
   "outputs": [
    {
     "name": "stdout",
     "output_type": "stream",
     "text": [
      "(621, 3)\n"
     ]
    }
   ],
   "source": [
    "print(X_test.shape)"
   ]
  },
  {
   "attachments": {},
   "cell_type": "markdown",
   "metadata": {},
   "source": [
    "# What type of model do you prefer\n",
    "\n",
    "Since this is a regression problem, there are a few models to use. If the data was very linear, a linear regression model would probably be the best fit. In this case, with weather data the data is a bit more irregular. So I went with a decision tree model. RandomForest is just a bonus thrown in for good measure"
   ]
  },
  {
   "cell_type": "code",
   "execution_count": 1229,
   "metadata": {},
   "outputs": [
    {
     "data": {
      "text/html": [
       "<style>#sk-container-id-11 {color: black;background-color: white;}#sk-container-id-11 pre{padding: 0;}#sk-container-id-11 div.sk-toggleable {background-color: white;}#sk-container-id-11 label.sk-toggleable__label {cursor: pointer;display: block;width: 100%;margin-bottom: 0;padding: 0.3em;box-sizing: border-box;text-align: center;}#sk-container-id-11 label.sk-toggleable__label-arrow:before {content: \"▸\";float: left;margin-right: 0.25em;color: #696969;}#sk-container-id-11 label.sk-toggleable__label-arrow:hover:before {color: black;}#sk-container-id-11 div.sk-estimator:hover label.sk-toggleable__label-arrow:before {color: black;}#sk-container-id-11 div.sk-toggleable__content {max-height: 0;max-width: 0;overflow: hidden;text-align: left;background-color: #f0f8ff;}#sk-container-id-11 div.sk-toggleable__content pre {margin: 0.2em;color: black;border-radius: 0.25em;background-color: #f0f8ff;}#sk-container-id-11 input.sk-toggleable__control:checked~div.sk-toggleable__content {max-height: 200px;max-width: 100%;overflow: auto;}#sk-container-id-11 input.sk-toggleable__control:checked~label.sk-toggleable__label-arrow:before {content: \"▾\";}#sk-container-id-11 div.sk-estimator input.sk-toggleable__control:checked~label.sk-toggleable__label {background-color: #d4ebff;}#sk-container-id-11 div.sk-label input.sk-toggleable__control:checked~label.sk-toggleable__label {background-color: #d4ebff;}#sk-container-id-11 input.sk-hidden--visually {border: 0;clip: rect(1px 1px 1px 1px);clip: rect(1px, 1px, 1px, 1px);height: 1px;margin: -1px;overflow: hidden;padding: 0;position: absolute;width: 1px;}#sk-container-id-11 div.sk-estimator {font-family: monospace;background-color: #f0f8ff;border: 1px dotted black;border-radius: 0.25em;box-sizing: border-box;margin-bottom: 0.5em;}#sk-container-id-11 div.sk-estimator:hover {background-color: #d4ebff;}#sk-container-id-11 div.sk-parallel-item::after {content: \"\";width: 100%;border-bottom: 1px solid gray;flex-grow: 1;}#sk-container-id-11 div.sk-label:hover label.sk-toggleable__label {background-color: #d4ebff;}#sk-container-id-11 div.sk-serial::before {content: \"\";position: absolute;border-left: 1px solid gray;box-sizing: border-box;top: 0;bottom: 0;left: 50%;z-index: 0;}#sk-container-id-11 div.sk-serial {display: flex;flex-direction: column;align-items: center;background-color: white;padding-right: 0.2em;padding-left: 0.2em;position: relative;}#sk-container-id-11 div.sk-item {position: relative;z-index: 1;}#sk-container-id-11 div.sk-parallel {display: flex;align-items: stretch;justify-content: center;background-color: white;position: relative;}#sk-container-id-11 div.sk-item::before, #sk-container-id-11 div.sk-parallel-item::before {content: \"\";position: absolute;border-left: 1px solid gray;box-sizing: border-box;top: 0;bottom: 0;left: 50%;z-index: -1;}#sk-container-id-11 div.sk-parallel-item {display: flex;flex-direction: column;z-index: 1;position: relative;background-color: white;}#sk-container-id-11 div.sk-parallel-item:first-child::after {align-self: flex-end;width: 50%;}#sk-container-id-11 div.sk-parallel-item:last-child::after {align-self: flex-start;width: 50%;}#sk-container-id-11 div.sk-parallel-item:only-child::after {width: 0;}#sk-container-id-11 div.sk-dashed-wrapped {border: 1px dashed gray;margin: 0 0.4em 0.5em 0.4em;box-sizing: border-box;padding-bottom: 0.4em;background-color: white;}#sk-container-id-11 div.sk-label label {font-family: monospace;font-weight: bold;display: inline-block;line-height: 1.2em;}#sk-container-id-11 div.sk-label-container {text-align: center;}#sk-container-id-11 div.sk-container {/* jupyter's `normalize.less` sets `[hidden] { display: none; }` but bootstrap.min.css set `[hidden] { display: none !important; }` so we also need the `!important` here to be able to override the default hidden behavior on the sphinx rendered scikit-learn.org. See: https://github.com/scikit-learn/scikit-learn/issues/21755 */display: inline-block !important;position: relative;}#sk-container-id-11 div.sk-text-repr-fallback {display: none;}</style><div id=\"sk-container-id-11\" class=\"sk-top-container\"><div class=\"sk-text-repr-fallback\"><pre>RandomForestRegressor()</pre><b>In a Jupyter environment, please rerun this cell to show the HTML representation or trust the notebook. <br />On GitHub, the HTML representation is unable to render, please try loading this page with nbviewer.org.</b></div><div class=\"sk-container\" hidden><div class=\"sk-item\"><div class=\"sk-estimator sk-toggleable\"><input class=\"sk-toggleable__control sk-hidden--visually\" id=\"sk-estimator-id-11\" type=\"checkbox\" checked><label for=\"sk-estimator-id-11\" class=\"sk-toggleable__label sk-toggleable__label-arrow\">RandomForestRegressor</label><div class=\"sk-toggleable__content\"><pre>RandomForestRegressor()</pre></div></div></div></div></div>"
      ],
      "text/plain": [
       "RandomForestRegressor()"
      ]
     },
     "execution_count": 1229,
     "metadata": {},
     "output_type": "execute_result"
    }
   ],
   "source": [
    "tree_model = DecisionTreeRegressor()\n",
    "rf_model = RandomForestRegressor()\n",
    "\n",
    "tree_model.fit(X_train, y_train)\n",
    "\n",
    "rf_model.fit(X_train, y_train)\n"
   ]
  },
  {
   "cell_type": "code",
   "execution_count": 1230,
   "metadata": {},
   "outputs": [],
   "source": [
    "def display_scores(scores):\n",
    "    print(\"Scores:\", scores)\n",
    "    print(\"Mean:\", scores.mean())\n",
    "    print(\"Standard deviation:\", scores.std())\n",
    "    print(\"\\n\")\n",
    "\n",
    "\n",
    "scores = cross_val_score(tree_model, X_train, y_train, scoring=\"neg_mean_squared_error\", cv=10)\n",
    "tree_rmse_scores = numpy.sqrt(-scores)\n",
    "\n",
    "scores = cross_val_score(rf_model, X_train, y_train, scoring=\"neg_mean_squared_error\", cv=10)\n",
    "rf_rmse_scores = numpy.sqrt(-scores)\n",
    "\n",
    "\n"
   ]
  },
  {
   "attachments": {},
   "cell_type": "markdown",
   "metadata": {},
   "source": [
    "# How did our trained model compare to the randomforest?"
   ]
  },
  {
   "cell_type": "code",
   "execution_count": 1231,
   "metadata": {},
   "outputs": [
    {
     "name": "stdout",
     "output_type": "stream",
     "text": [
      "Scores: [9.10213657 8.29274212 7.91091347 7.51142039 8.35420776 8.56396364\n",
      " 8.52853846 8.04538301 8.54459419 7.02295517]\n",
      "Mean: 8.18768547586068\n",
      "Standard deviation: 0.5631093228832081\n",
      "\n",
      "\n",
      "Scores: [7.49847023 6.71054589 6.27040943 6.32488558 6.96197603 6.88458869\n",
      " 7.09418907 6.66481472 6.83513618 6.16978716]\n",
      "Mean: 6.741480298210179\n",
      "Standard deviation: 0.3878702822432477\n",
      "\n",
      "\n"
     ]
    }
   ],
   "source": [
    "display_scores(tree_rmse_scores)\n",
    "\n",
    "\n",
    "\n",
    "display_scores(rf_rmse_scores)"
   ]
  },
  {
   "attachments": {},
   "cell_type": "markdown",
   "metadata": {},
   "source": [
    "# Decision tree model\n",
    "The results of the predictions from the decision tree"
   ]
  },
  {
   "cell_type": "code",
   "execution_count": 1232,
   "metadata": {},
   "outputs": [
    {
     "data": {
      "text/plain": [
       "array([  4.        ,  -9.2       , -10.3       ,  -4.1       ,\n",
       "        -5.8       ,  12.1       ,  15.1       ,  -1.4       ,\n",
       "        -2.4       ,  13.8       ,  11.5       ,  -8.6       ,\n",
       "         0.9       ,  10.2       ,   5.9       , -12.7       ,\n",
       "         8.        ,   3.4       ,  10.9       ,   9.8       ,\n",
       "         8.4       ,  15.1       ,  -7.6       ,  12.9       ,\n",
       "        11.3       ,  -1.925     ,   6.8       ,  12.6       ,\n",
       "         5.5       ,   6.4       ,  11.8       ,   1.45      ,\n",
       "        -0.6       ,   0.6       ,  -5.2       ,  13.        ,\n",
       "        -4.2       ,   1.3       ,  13.8       ,   7.8       ,\n",
       "         0.8       ,   7.1       ,   3.2       ,   8.        ,\n",
       "         8.7       ,   8.6       ,   2.7       ,  15.2       ,\n",
       "        10.2       ,   4.8       ,   2.5       ,   8.1       ,\n",
       "         1.        ,   5.5       ,   1.3       ,  10.4       ,\n",
       "        11.9       ,  11.6       ,   1.65      ,   3.8       ,\n",
       "        11.8       ,   8.9       ,  14.8       ,   5.46666667,\n",
       "        -5.7       ,   7.5       ,   0.4       ,   9.5       ,\n",
       "        11.1       ,   4.2       ,  -1.825     ,   4.7       ,\n",
       "         0.7       ,   3.8       ,   9.6       ,  12.3       ,\n",
       "         2.75      , -10.8       ,   8.4       ,   4.4       ,\n",
       "        -4.        ,  -0.8       ,  -0.4       ,  15.1       ,\n",
       "         9.8       ,   4.9       ,   1.        , -16.        ,\n",
       "         8.4       ,   8.2       ,   9.5       ,   4.5       ,\n",
       "        12.3       , -10.85      ,   2.1       ,   2.25      ,\n",
       "         4.2       ,   0.4       ,  -4.1       ,   6.9       ,\n",
       "         2.1       ,  14.8       ,   0.        ,  13.6       ,\n",
       "        15.2       ,   7.5       ,  10.8       , -11.7       ,\n",
       "        -8.4       ,   3.8       ,   9.1       ,   2.7       ,\n",
       "        13.7       ,   8.6       ,  -8.4       ,  10.        ,\n",
       "         3.5       ,   1.3       ,   9.5       ,   8.6       ,\n",
       "        -5.2       ,  -6.5       ,   0.2       ,   2.3       ,\n",
       "       -14.3       ,  -3.4       ,  -0.8       ,  13.7       ,\n",
       "         0.2       ,   8.6       ,  11.4       ,   4.7       ,\n",
       "         4.5       ,  13.8       ,   7.1       ,   4.7       ,\n",
       "         0.35      ,  10.2       ,   0.85      ,  -7.7       ,\n",
       "         6.7       ,  -0.4       , -10.85      ,   7.8       ,\n",
       "        10.1       ,   7.1       ,  -4.1       ,   4.3       ,\n",
       "        -0.7       ,   4.7       ,   2.3       ,  15.1       ,\n",
       "         8.4       ,  13.45      ,   2.6       ,   4.        ,\n",
       "        14.4       ,   3.7       ,  13.7       ,  11.5       ,\n",
       "        -5.4       ,  12.4       ,   4.        ,  13.4       ,\n",
       "       -20.5       ,  10.5       ,   7.        ,   9.8       ,\n",
       "         1.15      ,   3.5       ,   3.7       ,   0.375     ,\n",
       "         7.7       ,   6.4       ,  11.4       ,  -4.4       ,\n",
       "         4.6       ,  13.7       ,   4.4       ,   1.5       ,\n",
       "         0.3       ,  13.1       ,   4.6       ,  -0.7       ,\n",
       "        -8.3       ,   2.775     ,  12.        ,   1.05      ,\n",
       "         0.75      ,  -0.6       ,  -5.3       ,   9.5       ,\n",
       "        11.9       ,   9.8       ,  -4.        ,  11.5       ,\n",
       "         8.5       ,  -7.4       ,   3.5       ,  -2.1       ,\n",
       "        -9.8       ,   4.4       ,   4.4       ,  -4.4       ,\n",
       "         2.8       ,  12.2       ,   0.8       ,   8.7       ,\n",
       "         9.2       ,  -1.7       ,  -5.4       ,  15.2       ,\n",
       "         8.7       ,   9.7       ,  -1.2       ,   7.7       ,\n",
       "        -4.9       ,   3.8       ,  11.3       ,   9.8       ,\n",
       "         8.6       ,  -6.3       ,   5.5       , -22.9       ,\n",
       "        -4.3       ,   2.2       ,   4.3       ,  11.6       ,\n",
       "         0.8       ,  11.8       ,   5.2       ,   9.5       ,\n",
       "        14.1       , -14.9       ,  10.5       ,  10.7       ,\n",
       "         4.9       ,  -0.6       , -22.8       ,   3.4       ,\n",
       "        10.9       ,   3.9       ,  11.9       ,  -8.7       ,\n",
       "         5.7       ,  -0.5       ,   2.7       ,  -0.25      ,\n",
       "         0.3       ,   2.        ,  -3.65      ,   4.6       ,\n",
       "         9.3       ,   1.33333333,   0.        ,   8.6       ,\n",
       "         9.4       , -22.8       ,   9.1       ,  -0.6       ,\n",
       "         5.46666667,   1.6       ,  -1.8       ,   2.1       ,\n",
       "         7.75      ,   8.7       ,  13.4       ,  12.9       ,\n",
       "        -0.1       ,   4.4       ,   5.5       ,   4.6       ,\n",
       "         0.5       , -18.6       ,  11.8       ,  -1.1       ,\n",
       "        -4.        ,   3.6       ,  12.9       ,   3.3       ,\n",
       "         2.2       , -21.3       ,  -0.5       ,  -0.1       ,\n",
       "         2.3       ,  12.        ,   6.1       ,  -8.4       ,\n",
       "         6.1       ,   0.3       ,  -2.2       ,   0.6       ,\n",
       "        -4.1       ,   7.2       ,  -0.2       ,  -4.6       ,\n",
       "         9.9       ,  -5.7       ,   2.1       ,  -2.2       ,\n",
       "         8.7       ,   2.7       ,   9.8       ,   8.6       ,\n",
       "         7.06666667,   3.7       ,   6.95      ,   1.2       ,\n",
       "         1.        ,  14.        ,   7.6       ,  -0.3       ,\n",
       "         2.1       ,  16.6       ,  -1.        ,  11.2       ,\n",
       "         1.3       ,  15.1       ,   3.1       ,   8.2       ,\n",
       "         9.6       ,   1.5       ,   3.        ,  15.9       ,\n",
       "         9.7       ,   6.3       ,  -1.2       ,  -1.65      ,\n",
       "         0.15      ,   0.35      ,   8.1       ,   9.4       ,\n",
       "        10.33333333,   7.95      ,  13.9       ,   9.6       ,\n",
       "         2.        ,   2.        ,  -7.5       ,   6.05      ,\n",
       "         3.55      ,  12.6       , -13.3       ,   0.65      ,\n",
       "         9.8       ,   9.1       ,   1.35      ,   3.        ,\n",
       "         1.3       ,   6.3       ,  -7.23333333,  15.2       ,\n",
       "         9.2       ,  11.8       ,   5.        ,   9.5       ,\n",
       "         8.4       , -11.5       , -10.2       ,   6.        ,\n",
       "         6.6       ,   6.9       ,  12.        ,  11.7       ,\n",
       "        13.9       ,  15.        ,   7.6       ,   2.2       ,\n",
       "       -11.5       ,   6.05      ,   7.8       ,   5.8       ,\n",
       "        14.3       ,  13.7       ,   2.4       ,  10.33333333,\n",
       "         3.7       ,  -0.4       ,   9.2       ,  -7.1       ,\n",
       "         4.7       , -11.1       ,   0.65      ,  -0.6       ,\n",
       "         0.3       , -10.4       ,  12.8       ,   0.8       ,\n",
       "       -11.1       ,  12.9       ,  10.8       ,  -0.3       ,\n",
       "         9.7       ,  11.2       ,   0.3       ,  10.6       ,\n",
       "         4.7       ,   3.83333333,   1.7       ,   5.1       ,\n",
       "         6.4       ,  -1.1       ,   8.6       ,   8.2       ,\n",
       "         2.56666667,   1.7       ,  -4.3       ,  -7.8       ,\n",
       "         1.7       ,   2.1       ,  14.9       ,   3.6       ,\n",
       "        15.        ,  11.4       ,   2.4       ,   7.85      ,\n",
       "        12.1       ,   5.4       ,  11.8       ,   9.9       ,\n",
       "         7.5       , -15.8       ,   8.1       ,   1.        ,\n",
       "        12.7       ,  10.2       ,  -8.4       ,   3.        ,\n",
       "        12.5       ,  10.9       ,   4.        ,  11.2       ,\n",
       "        -0.5       ,   0.8       ,  -1.        ,   2.25      ,\n",
       "        -2.1       ,  -1.9       ,   4.7       ,   0.8       ,\n",
       "        10.        ,   8.3       ,  -5.8       ,   9.5       ,\n",
       "        -8.4       ,  13.8       ,  11.3       ,  -8.4       ,\n",
       "         0.7       ,   4.45      ,   6.8       ,   8.35      ,\n",
       "       -11.1       ,   4.7       ,   3.8       ,  12.6       ,\n",
       "        15.1       ,  -6.7       ,  -0.6       ,  -2.43333333,\n",
       "        -0.6       ,   6.4       ,   3.7       ,  10.2       ,\n",
       "        15.3       , -10.8       ,  11.2       ,  12.7       ,\n",
       "         7.7       ,   1.95      ,  -0.3       ,  -9.4       ,\n",
       "         8.3       ,  11.8       ,   7.8       , -17.7       ,\n",
       "         6.7       ,   3.6       ,   9.9       ,   1.65      ,\n",
       "        14.7       ,   8.2       ,   9.5       ,  11.9       ,\n",
       "         4.93333333,   0.5       ,  10.3       ,   9.5       ,\n",
       "        -2.1       ,  13.5       ,   9.85      ,   3.55      ,\n",
       "         5.1       ,  -2.9       ,   7.        ,  10.33333333,\n",
       "         1.3       ,   8.4       ,  -8.3       ,   7.6       ,\n",
       "         0.2       ,   2.05      ,  -8.1       ,   2.7       ,\n",
       "         3.7       ,   4.4       ,  -0.5       ,   5.2       ,\n",
       "         0.8       ,   8.1       ,   0.45      ,  16.6       ,\n",
       "       -10.4       ,   0.5       ,   2.        ,  11.2       ,\n",
       "         0.6       ,  13.2       ,   8.        ,   4.15      ,\n",
       "        -8.1       , -12.9       ,  12.4       ,  11.9       ,\n",
       "         4.9       ,   2.1       ,   6.5       ,  -0.5       ,\n",
       "        13.1       ,  -3.1       ,  10.7       ,   3.9       ,\n",
       "        11.7       ,   0.8       ,  10.6       ,  -2.2       ,\n",
       "         1.4       ,  -1.        ,  -0.4       ,  -4.1       ,\n",
       "         3.4       ,  12.3       ,   7.9       ,   3.8       ,\n",
       "         8.6       ,   1.3       ,   2.        , -14.3       ,\n",
       "        13.4       ,   8.        ,   6.2       ,   9.4       ,\n",
       "        -4.1       ,  12.9       ,   7.5       ,  -4.        ,\n",
       "        13.4       , -11.5       ,   1.        ,  -1.        ,\n",
       "         3.6       ,  -6.1       ,   4.6       ,   0.4       ,\n",
       "         0.5       ,   7.35      ,  14.1       ,   2.4       ,\n",
       "        10.8       ,  13.4       ,  15.7       ,  13.8       ,\n",
       "        -4.9       ,  13.        ,  -0.25      ,  -4.9       ,\n",
       "        -1.8       , -12.7       ,  -0.6       ,  11.        ,\n",
       "        -2.43333333,  13.8       ,   3.3       , -11.7       ,\n",
       "         5.5       ,  -7.6       ,   1.3       ,  -8.1       ,\n",
       "        -4.1       ,   3.        ,   8.2       ,  15.4       ,\n",
       "        -8.73333333,  12.7       ,   9.55      ,   9.9       ,\n",
       "         7.8       ,   7.5       ,   9.85      ,  -2.43333333,\n",
       "         8.05      ,   4.4       ,   9.6       ,  17.4       ,\n",
       "        12.7       ,   7.45      ,   0.7       ,  12.4       ,\n",
       "         8.9       ,   6.4       ,   1.65      ,   9.8       ,\n",
       "         2.7       ,  15.1       ,   2.2       ,   1.        ,\n",
       "        -4.3       ,   1.6       ,   4.        ,   5.8       ,\n",
       "         0.2       ])"
      ]
     },
     "execution_count": 1232,
     "metadata": {},
     "output_type": "execute_result"
    }
   ],
   "source": [
    "tree_model.predict(X_test)"
   ]
  },
  {
   "attachments": {},
   "cell_type": "markdown",
   "metadata": {},
   "source": [
    "# RandomForest \n",
    "The results from the prediction of the RandomForest model"
   ]
  },
  {
   "cell_type": "code",
   "execution_count": 1233,
   "metadata": {},
   "outputs": [
    {
     "data": {
      "text/plain": [
       "array([ 4.23800000e+00, -5.50150000e+00, -7.06216667e+00,  1.17975000e+00,\n",
       "        9.23000000e-01,  6.48669524e+00,  1.33810000e+01, -6.45500000e-01,\n",
       "        6.25666667e-01,  1.36604167e+01,  9.28700000e+00,  2.78900000e+00,\n",
       "        2.18646667e+00,  9.41000000e+00,  3.11600000e+00, -4.34233333e+00,\n",
       "        7.41900000e+00,  2.60145238e+00,  5.30033333e+00,  6.62400000e+00,\n",
       "       -5.35000000e-01,  1.05780000e+01, -4.27000000e+00,  1.17410000e+01,\n",
       "       -3.31500000e+00, -1.92870317e+00,  1.74021667e+00,  1.20860000e+01,\n",
       "        5.32349524e+00,  6.63250000e+00,  3.34533333e+00,  1.49757222e+00,\n",
       "        2.99383333e+00,  2.21466667e-01, -1.36031429e+00,  4.78525000e+00,\n",
       "       -2.85483333e+00,  6.15333333e-01, -7.75316667e+00,  8.74700000e+00,\n",
       "        6.56333333e-01, -3.60000000e-02,  3.18748730e+00,  6.80313333e+00,\n",
       "        8.42700000e+00,  8.18520000e+00,  2.72083333e+00,  1.09350000e+01,\n",
       "        9.00550000e+00,  5.35400000e+00,  2.30025000e+00,  4.93631667e+00,\n",
       "        4.05500000e+00,  5.32349524e+00,  1.65000000e+00,  8.36783730e+00,\n",
       "        1.03303333e+01,  1.09659167e+01,  2.20440000e+00,  3.36613333e+00,\n",
       "        1.08293333e+01,  7.27450000e+00,  1.17815000e+01,  5.59699719e+00,\n",
       "       -3.38300000e+00,  7.35010357e+00,  6.28000000e-01,  9.33793333e+00,\n",
       "        7.90463333e+00,  4.02700000e+00, -8.84685714e-01,  6.38800000e+00,\n",
       "        1.00127778e+00,  3.73799286e+00,  9.08033333e+00,  8.03325000e+00,\n",
       "        2.81216667e+00, -3.80700000e+00,  9.80600000e+00,  3.11216667e+00,\n",
       "       -2.79300000e+00,  2.43241667e+00,  1.97050000e+00,  1.46620000e+01,\n",
       "        8.37595714e+00,  5.36500000e+00,  1.98025000e+00, -8.16300000e+00,\n",
       "        8.22941667e+00,  7.17200000e+00,  5.92000000e+00,  4.80024762e+00,\n",
       "        5.96233333e+00, -9.81163333e+00,  4.66600000e+00,  4.13643095e+00,\n",
       "        4.65500000e+00,  2.31766667e+00, -7.39000000e-01,  5.47550000e+00,\n",
       "        3.99285000e+00,  8.06200000e+00,  3.87183333e+00,  1.14350000e+01,\n",
       "        9.76100000e+00,  4.80358333e+00,  1.00305000e+01, -1.21700000e+00,\n",
       "       -6.26641667e+00,  3.36613333e+00,  6.33214286e+00,  2.57786667e+00,\n",
       "        1.27820000e+01,  8.31349286e+00, -7.08350000e+00,  1.04540000e+01,\n",
       "        3.03100000e+00,  2.07375000e+00,  6.85580000e+00,  8.43750000e+00,\n",
       "       -6.51314286e-01, -9.17166667e-01,  1.48300000e+00,  2.05628333e+00,\n",
       "        5.70000000e-02,  4.60520000e+00,  7.30000000e-02,  8.07900000e+00,\n",
       "        4.30000000e-01,  5.96166667e+00,  4.67100000e+00,  5.08184683e+00,\n",
       "        3.96000000e+00,  1.15120000e+01,  5.13600000e+00,  5.08184683e+00,\n",
       "        3.54750000e-01,  6.76123333e+00,  1.59548810e+00, -1.22300000e+00,\n",
       "        6.64400000e+00,  2.24500000e+00, -8.26093333e+00,  7.83850000e+00,\n",
       "       -5.35000000e-01,  6.11200000e+00, -7.28000000e-01,  8.64600000e+00,\n",
       "       -8.55095238e-01,  4.50953333e+00,  6.12900000e+00,  1.27640000e+01,\n",
       "        8.22941667e+00,  1.37637667e+01,  3.18210000e+00,  1.03760000e+01,\n",
       "        1.34660000e+01,  1.66620000e+00,  1.31609667e+01,  7.52333333e+00,\n",
       "       -4.72950000e+00,  1.01590000e+01,  4.18633333e+00,  1.27340000e+01,\n",
       "        6.65691667e+00,  4.98800000e+00,  6.12600000e+00,  6.98850000e+00,\n",
       "        2.07623333e+00,  3.50200000e+00,  4.29600000e+00,  4.51423016e-01,\n",
       "        4.99200000e+00,  2.61600000e+00,  3.83480000e+00, -1.50983333e+00,\n",
       "        6.41000000e+00,  8.19966667e+00,  4.64308571e+00,  3.56900000e+00,\n",
       "        9.64000000e-01,  1.19760000e+01,  6.41000000e+00,  1.03150000e+00,\n",
       "       -6.47255714e+00,  2.87648056e+00,  3.63300000e+00,  6.70450000e-01,\n",
       "        1.19230556e+00, -3.20755556e-01,  5.92000000e-01,  1.09250000e+01,\n",
       "        1.34950000e+00,  6.31000000e+00, -4.87376667e+00,  9.54966667e+00,\n",
       "        7.14133333e+00, -3.77600000e+00,  2.66358571e+00, -7.80000000e-02,\n",
       "        6.51350000e+00,  3.96576667e+00,  3.83492857e+00,  1.60700000e+00,\n",
       "        2.68060000e+00,  7.74600000e+00,  1.55600000e+00, -4.80000000e-01,\n",
       "        7.51796667e+00, -4.30000000e-02, -4.72950000e+00,  7.00700000e+00,\n",
       "        9.22500000e+00,  9.56450000e+00,  2.59500000e+00,  4.39900000e+00,\n",
       "       -2.52666667e-01,  2.64433333e+00,  1.22230000e+01,  5.72833333e+00,\n",
       "        8.13353333e+00, -2.05533333e+00,  5.19996905e+00, -1.20740000e+01,\n",
       "       -3.22274286e+00,  2.01560000e+00,  7.72000000e+00,  1.01995333e+01,\n",
       "        6.25111111e-01,  1.09206667e+01,  7.36200000e+00,  9.93833333e+00,\n",
       "        2.09550000e+00, -9.83500000e+00,  4.86900000e+00,  9.69635000e+00,\n",
       "        4.21699524e+00,  3.26200000e+00, -1.43500000e+00,  3.24000000e+00,\n",
       "        4.69200000e-01,  5.87200000e+00,  1.03303333e+01, -5.70441667e+00,\n",
       "        5.38996667e+00, -6.34166667e-01,  4.16858333e+00, -2.93256667e+00,\n",
       "        3.91950000e+00,  4.52700000e+00, -1.74865000e+00,  4.49020000e+00,\n",
       "        9.33300000e+00,  1.35800000e+00,  3.51360000e+00,  7.98500000e+00,\n",
       "        7.04041667e+00, -3.01787500e+00,  9.14900000e+00, -8.10450794e-01,\n",
       "        5.59699719e+00, -1.30500000e+00, -3.62600000e+00,  3.53276190e+00,\n",
       "        6.76875000e+00,  9.00400000e+00,  2.79500000e+00,  1.06645000e+01,\n",
       "       -1.27000000e-01,  4.49280000e+00,  5.64949908e+00,  6.96000000e-01,\n",
       "        9.05333333e-01, -2.04400000e+00,  1.22010000e+01, -7.82700000e-01,\n",
       "       -1.49100000e+00,  3.39670714e+00,  7.34816667e+00,  2.97413571e+00,\n",
       "        2.72030000e+00,  1.74980000e+00, -2.88000000e-01,  1.78333333e-01,\n",
       "        2.28736667e+00,  7.98300000e+00,  3.97900000e+00,  2.06933333e+00,\n",
       "        7.96125000e+00,  3.74900000e+00, -2.02011190e+00,  5.87000000e-01,\n",
       "       -1.02928333e+00,  4.01400000e+00,  1.87771667e+00,  7.72250000e-01,\n",
       "        8.78384286e+00, -2.92133333e+00,  5.20300000e+00, -2.24746667e+00,\n",
       "        7.25400000e+00,  2.78260000e+00,  8.47522381e+00,  8.45050000e+00,\n",
       "        6.65820238e+00,  3.66420000e+00,  6.10650000e+00,  5.02533333e-01,\n",
       "        1.98025000e+00,  8.98100000e+00,  6.73316667e+00,  9.90000000e-02,\n",
       "        2.31950000e+00,  9.87000000e+00,  2.00527500e+00,  8.76600000e+00,\n",
       "        4.20933333e+00,  1.17360000e+01,  5.61350000e+00,  4.64033333e+00,\n",
       "        8.60277143e+00,  7.55916667e-01,  2.65200000e+00,  1.19820000e+01,\n",
       "        3.28150000e-01,  5.72100000e+00,  5.59900000e+00, -1.22826429e+00,\n",
       "       -4.72410317e-01,  4.52345238e-01,  5.89420000e+00,  8.34050000e+00,\n",
       "        1.00225607e+01,  7.48193333e+00,  1.19739333e+01,  3.74700000e+00,\n",
       "        1.62633333e+00,  2.68400000e+00, -6.80800000e+00,  5.58196667e+00,\n",
       "        3.66369405e+00,  6.79400000e+00, -4.08725000e+00,  6.72269048e-01,\n",
       "        8.53045000e+00,  6.33214286e+00,  1.34640000e+00,  2.26000000e+00,\n",
       "        2.07375000e+00,  7.93133333e+00, -6.29330595e+00,  8.51700000e+00,\n",
       "       -3.18500000e+00,  9.93916667e+00,  5.26766667e+00,  9.55550000e+00,\n",
       "        7.25200000e+00, -9.44560952e+00, -5.08125000e+00,  3.20966667e+00,\n",
       "        7.01000000e+00,  4.97800000e+00,  8.55050000e+00,  8.24775000e+00,\n",
       "        6.24000000e-01,  1.00280000e+01,  6.73316667e+00,  1.41675000e+00,\n",
       "       -1.12760000e+01,  5.58196667e+00,  9.34800000e+00,  7.16626667e+00,\n",
       "        1.19530000e+01,  1.23640000e+01,  2.79033333e+00,  1.00819607e+01,\n",
       "        3.68897619e+00,  2.13850000e+00,  5.97467143e+00, -1.46825000e+00,\n",
       "        4.24120000e+00, -5.29666667e+00,  6.72269048e-01, -1.37285952e+00,\n",
       "       -6.49500000e-01, -9.86000000e-01,  9.62050000e+00,  1.01400000e+00,\n",
       "       -8.55166667e+00,  8.92916667e+00,  8.92850000e+00, -1.86858095e+00,\n",
       "        8.56000000e-01,  1.26900000e+01,  2.09000000e+00,  8.85583333e+00,\n",
       "        4.36900000e+00,  3.83116190e+00,  2.95750000e+00,  4.75439048e+00,\n",
       "        6.63250000e+00,  9.22900000e+00,  8.15453333e+00,  7.66659524e+00,\n",
       "        2.34853333e+00,  7.69076190e-01, -2.91174286e+00, -7.42526667e+00,\n",
       "        2.95750000e+00, -1.40166667e-02,  1.20374000e+01,  3.18545238e+00,\n",
       "        8.73413333e+00,  8.53750000e+00,  2.28300000e+00,  7.44010000e+00,\n",
       "        9.50900000e+00,  6.12547619e+00,  9.77650000e+00,  8.26984286e+00,\n",
       "        7.22299008e+00,  1.70300000e+00,  5.73750000e+00,  5.23200000e+00,\n",
       "        1.14132500e+01,  6.29013333e+00, -6.26641667e+00,  3.68533333e+00,\n",
       "        1.01295000e+01,  1.03640000e+01,  3.77831905e+00,  1.28030000e+01,\n",
       "       -1.10800000e+00,  1.27500000e+00, -1.81386667e+00,  2.20300000e+00,\n",
       "       -2.07227976e+00, -2.10133333e+00,  2.60600000e+00,  2.01300000e+00,\n",
       "        1.00861786e+01,  3.37975000e+00,  9.23000000e-01,  9.93033333e+00,\n",
       "       -1.21041667e+00,  2.25700000e+00,  1.01460000e+01, -5.60325000e+00,\n",
       "        1.24233333e+00, -1.06083333e+00,  5.39878095e+00,  3.94599762e+00,\n",
       "       -5.67200000e+00,  2.63500000e+00,  3.36613333e+00,  1.25248333e+01,\n",
       "        1.10150000e+01, -3.10700000e+00,  9.00511905e-01, -1.27533175e+00,\n",
       "       -5.40476190e-03,  3.92713889e+00,  4.06000000e+00,  9.39906667e+00,\n",
       "        7.64885714e+00, -8.71000000e+00,  4.02133333e+00,  1.20920000e+01,\n",
       "        8.51566667e+00,  2.25743571e+00,  5.35500000e+00, -5.47028333e+00,\n",
       "        8.18150000e+00,  1.04096667e+01,  8.68500000e+00,  1.26300000e+00,\n",
       "        6.73466667e+00,  3.39670714e+00,  7.52000000e+00,  1.89525000e+00,\n",
       "       -9.58058333e+00,  9.85933333e+00,  8.46500000e+00,  2.57600000e+00,\n",
       "        4.47238294e+00,  6.61405952e-01,  8.75237980e+00,  7.77878571e+00,\n",
       "       -2.07227976e+00,  6.46386667e+00,  9.25365000e+00,  3.64036071e+00,\n",
       "        4.74308214e+00, -2.20750000e+00,  7.38700000e+00,  1.00225607e+01,\n",
       "        3.15000000e+00, -1.31000000e+00, -6.90625000e+00,  6.73316667e+00,\n",
       "        5.86200000e-01,  2.00615000e+00, -4.30466667e+00,  3.21293333e+00,\n",
       "        4.74530000e+00,  4.25273333e+00, -1.12350000e+00,  6.98000000e+00,\n",
       "        2.49500000e+00,  8.71600000e+00,  6.96816667e-01,  1.32750000e+01,\n",
       "       -4.18300000e+00,  6.08000000e-02,  1.33625000e+00,  9.48650000e+00,\n",
       "       -2.07616667e+00,  1.15950000e+01,  6.46300000e+00,  3.61245000e+00,\n",
       "       -2.96420000e+00, -5.79116667e+00,  4.28525000e+00, -2.87500000e-01,\n",
       "        8.19330000e+00,  4.91460000e+00,  7.17400000e+00, -6.34166667e-01,\n",
       "        1.19760000e+01,  3.56540000e+00,  1.14950000e+01,  4.12520000e+00,\n",
       "        1.09515000e+01, -1.77166667e+00,  9.29658333e+00, -2.24746667e+00,\n",
       "        1.04640000e+01, -8.37300000e-01,  2.13850000e+00, -2.89700000e+00,\n",
       "        3.22940000e+00,  1.10293333e+01,  8.66900000e+00,  7.05902381e+00,\n",
       "        8.07866667e+00,  1.69140000e+00,  1.28351667e+00, -4.55500000e+00,\n",
       "        1.27710000e+01,  3.68333333e+00,  4.33508571e+00,  8.60910476e+00,\n",
       "       -1.34100000e+00,  7.17900000e+00,  7.35010357e+00, -5.83026667e+00,\n",
       "        1.28540000e+01, -1.18280000e+01,  4.11250000e-01, -1.84600000e+00,\n",
       "        3.01566667e+00, -4.19866667e+00,  4.76800000e+00,  2.31766667e+00,\n",
       "        3.02900000e+00,  6.73215000e+00,  9.34700000e+00,  2.75000000e+00,\n",
       "        9.77026667e+00,  8.35900000e+00,  1.49550000e+01,  3.87250000e+00,\n",
       "       -2.05600000e+00,  1.01910000e+01, -1.56516667e+00, -3.23300000e+00,\n",
       "       -6.30000000e-02, -1.06490000e+01, -8.10450794e-01,  7.62193333e+00,\n",
       "       -1.27533175e+00,  8.82166667e+00,  4.46500000e+00, -1.21700000e+00,\n",
       "        5.64949908e+00, -3.04891667e+00, -4.26941667e-01,  5.05083333e-01,\n",
       "       -7.39000000e-01,  3.11600000e+00,  7.46762381e+00,  1.06980000e+01,\n",
       "       -7.77301270e+00,  9.43860000e+00,  7.25843333e+00,  9.70616667e+00,\n",
       "        7.68400000e+00,  7.22299008e+00,  7.36266667e+00, -1.27533175e+00,\n",
       "        7.87433333e+00,  6.01560000e+00,  8.70826667e+00,  1.54120000e+01,\n",
       "        1.22120000e+01,  5.55747500e+00,  8.29000000e-01,  4.95483333e+00,\n",
       "        1.01050000e+01,  3.53165476e+00,  2.76928333e+00,  9.83353333e+00,\n",
       "        3.25149286e+00,  1.45050000e+01,  2.72030000e+00,  5.38500000e+00,\n",
       "       -1.88469048e+00,  1.66656667e+00,  2.00300000e+00,  4.28506667e+00,\n",
       "        4.18550000e+00])"
      ]
     },
     "execution_count": 1233,
     "metadata": {},
     "output_type": "execute_result"
    }
   ],
   "source": [
    "rf_model.predict(X_test)"
   ]
  },
  {
   "attachments": {},
   "cell_type": "markdown",
   "metadata": {},
   "source": [
    "# Actual values"
   ]
  },
  {
   "cell_type": "code",
   "execution_count": 1234,
   "metadata": {},
   "outputs": [
    {
     "data": {
      "text/plain": [
       "1653     5.0\n",
       "2188   -11.5\n",
       "309     10.4\n",
       "746      6.8\n",
       "1097     8.5\n",
       "903     12.8\n",
       "2375   -19.5\n",
       "554      6.0\n",
       "1034     1.8\n",
       "736     13.1\n",
       "1195    13.9\n",
       "321      2.0\n",
       "1618     4.0\n",
       "432     11.0\n",
       "2606    -7.8\n",
       "443      9.5\n",
       "17      11.4\n",
       "1992     2.0\n",
       "2355   -18.1\n",
       "1553    14.3\n",
       "Name: Temperature, dtype: float64"
      ]
     },
     "execution_count": 1234,
     "metadata": {},
     "output_type": "execute_result"
    }
   ],
   "source": [
    "y_test.head(20)"
   ]
  },
  {
   "attachments": {},
   "cell_type": "markdown",
   "metadata": {},
   "source": [
    "# Conclusion\n",
    "\n",
    "\n",
    "## The data\n",
    "\n",
    "Gathering the data was the easiest step. I was lucky that SMHI has such a great open API service, the problem was finding a good model to handle the data. As it turns out, the weather data has a lot of fluctations, so it will be hard to model this kind of behavior. I guess this is why we still have SHMI and similar weather agencies. Now, could this be used for what I said in the beginning? Yes, if you lack a proper weather report concering some locale, you can probably use this as a stepping stone to create something even better.\n",
    "\n",
    "## Pre-processing\n",
    "\n",
    "Well, this was all done by hand. But, there are of course better options available, AWS have a few automatic tools available that will help you pre-process the data and even suggest suitable models for you to use.\n",
    "\n",
    "## Visualization\n",
    "\n",
    "Python has access to many good options for plotting data in various forms and manners. As humans, we have a hard time making sense of numbers in isolation, but plotted over time for example it's easier for us to interpret it in a meaningful way.\n",
    "\n",
    "## The model\n",
    "\n",
    "This took some research and quite a few hours of scouring the internet for clues. It seems that most weather predictions are toy-like implementations, much like my own. There is a reason that weather agencies use custom and very specific models when trying to make forecasts.\n",
    "\n",
    "## Usage of ML for local weather predictions\n",
    "\n",
    "My advice would be to train the model on as much data, as close to you as possible. After that experiment with your local weather data and see if the predicted data makes sense.\n",
    "\n",
    "## Areas left for future improvements\n",
    "\n",
    "Gathering the weather data from the SHMI API automatically, perhaps based on the users coordinates. Do further research and see if there are any fully trained models on weather data already - that is, pickled models ready to use. "
   ]
  }
 ],
 "metadata": {
  "kernelspec": {
   "display_name": ".env",
   "language": "python",
   "name": "python3"
  },
  "language_info": {
   "codemirror_mode": {
    "name": "ipython",
    "version": 3
   },
   "file_extension": ".py",
   "mimetype": "text/x-python",
   "name": "python",
   "nbconvert_exporter": "python",
   "pygments_lexer": "ipython3",
   "version": "3.10.8"
  },
  "orig_nbformat": 4,
  "vscode": {
   "interpreter": {
    "hash": "03fb4982bb72a7bddee65bd9eac4d7bc60ad272221ddd9c12d312a2ce211a0a0"
   }
  }
 },
 "nbformat": 4,
 "nbformat_minor": 2
}
